{
 "cells": [
  {
   "cell_type": "code",
   "execution_count": 1,
   "metadata": {},
   "outputs": [],
   "source": [
    "import numpy as np\n",
    "import matplotlib.pyplot as plt\n",
    "import scipy.optimize\n",
    "import afterglowpy as grb"
   ]
  },
  {
   "cell_type": "code",
   "execution_count": 2,
   "metadata": {},
   "outputs": [],
   "source": [
    "def loadDataFromFile(filename):\n",
    "    \"\"\"\n",
    "    Load GRB afterglow data from a .txt file.\n",
    "    \n",
    "    Arguments\n",
    "    \n",
    "        filename: the name (and path) to the data file.\n",
    "        \n",
    "    Returns\n",
    "        \n",
    "        t: array\n",
    "            observed times in seconds\n",
    "        nu: array\n",
    "            observed frequency in Hz\n",
    "        Fnu: array\n",
    "            observed flux in mJy\n",
    "        Ferr: array\n",
    "            uncertainty in observed flux in mJy\n",
    "    \"\"\"\n",
    "    \n",
    "    \n",
    "    t_all, nu_all, Fnu_all, Ferr_all, ul_all = np.loadtxt(filename, usecols=[0,1,2,3,4], unpack=True)\n",
    "    \n",
    "    detections = (ul_all == 0.0)\n",
    "    t_det = t_all[detections]\n",
    "    nu_det = nu_all[detections]\n",
    "    Fnu_det = Fnu_all[detections]\n",
    "    Ferr_det = Ferr_all[detections]\n",
    "    \n",
    "    return t_det, nu_det, Fnu_det, Ferr_det\n",
    "    "
   ]
  },
  {
   "cell_type": "code",
   "execution_count": 6,
   "metadata": {},
   "outputs": [],
   "source": [
    "# Load the data!\n",
    "\n",
    "t_data, nu_data, Fnu_data, Ferr_data = loadDataFromFile(\"../data/180720B_data.txt\")"
   ]
  },
  {
   "cell_type": "code",
   "execution_count": 9,
   "metadata": {},
   "outputs": [
    {
     "name": "stdout",
     "output_type": "stream",
     "text": [
      "[1.20899462e+18 1.20899462e+18 1.20899462e+18 1.20899462e+18\n",
      " 1.20899462e+18 1.20899462e+18 1.20899462e+18 1.20899462e+18\n",
      " 1.20899462e+18 1.20899462e+18 1.20899462e+18 1.20899462e+18\n",
      " 1.20899462e+18 1.20899462e+18 1.20899462e+18 1.20899462e+18\n",
      " 1.20899462e+18 1.20899462e+18 1.20899462e+18 1.20899462e+18\n",
      " 1.20899462e+18 1.20899462e+18 1.20899462e+18 1.20899462e+18\n",
      " 1.20899462e+18 1.55000000e+10 1.55000000e+10 1.55000000e+10\n",
      " 4.67706708e+14 4.67706708e+14 4.67706708e+14 4.67706708e+14\n",
      " 4.67706708e+14 4.67706708e+14 4.67706708e+14 4.67706708e+14\n",
      " 4.67706708e+14 4.67706708e+14 4.67706708e+14 4.67706708e+14\n",
      " 4.67706708e+14 4.67706708e+14 4.67706708e+14 4.67706708e+14\n",
      " 4.67706708e+14 1.40000000e+09]\n"
     ]
    }
   ],
   "source": [
    "print(nu_data)"
   ]
  },
  {
   "cell_type": "code",
   "execution_count": 15,
   "metadata": {},
   "outputs": [
    {
     "data": {
      "image/png": "[encoded data removed]",
      "text/plain": [
       "<Figure size 432x288 with 1 Axes>"
      ]
     },
     "metadata": {
      "needs_background": "light"
     },
     "output_type": "display_data"
    }
   ],
   "source": [
    "# Times and Frequencies for the model\n",
    "t = np.geomspace(1.0e2, 1.0e7, 100)\n",
    "\n",
    "nuO = np.empty(t.shape)\n",
    "nuO[:] = 4.67706708e+14\n",
    "\n",
    "# Parameters for the model\n",
    "Z = {'jetType': grb.jet.TopHat,  # type of jet structure\n",
    "     'specType': 0,              # type of spectrum\n",
    "     'thetaObs': 0.0,   # observer angle (radians)\n",
    "     'E0': 1.0e53,      # isotropic energy (erg)\n",
    "     'thetaCore': 0.1,  # jet opening angle (radians)\n",
    "     'n0': 1.0,         # ambient ISM density (cm^{-3})\n",
    "     'p': 2.5,          # electron energy slope (no units)\n",
    "     'epsilon_e': 0.1,  # fraction of energy in accelerated electrons (no units)\n",
    "     'epsilon_B': 0.01, # fraction of energy in magnetic field (no units)\n",
    "     'ksiN': 1.0,       # fraction of electrons that get accelerated (no units)\n",
    "     'dL': 1.0e28,      # luminosity distance (cm)\n",
    "     'z': 0.5           # redshift (no units)\n",
    "    } \n",
    "\n",
    "# Calculate the model!\n",
    "FnuO = grb.fluxDensity(t, nuO, **Z)  # the model, theoretical prediction\n",
    "\n",
    "# Plot the data\n",
    "plt.errorbar(t_data, Fnu_data, Ferr_data, ls='', marker='.', label='data')\n",
    "\n",
    "# Plot the model\n",
    "plt.plot(t, Fnu, label='model')\n",
    "\n",
    "# Scale the Axes\n",
    "plt.xscale('log')\n",
    "plt.yscale('log')\n",
    "\n",
    "# Add a legend\n",
    "plt.legend()\n",
    "\n",
    "# Add some labels\n",
    "plt.xlabel('Time (s)')\n",
    "plt.ylabel('Flux (mJy)')\n",
    "plt.show()"
   ]
  },
  {
   "cell_type": "code",
   "execution_count": 4,
   "metadata": {},
   "outputs": [
    {
     "ename": "NameError",
     "evalue": "name 'tR' is not defined",
     "output_type": "error",
     "traceback": [
      "\u001b[0;31m---------------------------------------------------------------------------\u001b[0m",
      "\u001b[0;31mNameError\u001b[0m                                 Traceback (most recent call last)",
      "\u001b[0;32m<ipython-input-4-b2ac79fbd0df>\u001b[0m in \u001b[0;36m<module>\u001b[0;34m\u001b[0m\n\u001b[0;32m----> 1\u001b[0;31m \u001b[0mplt\u001b[0m\u001b[0;34m.\u001b[0m\u001b[0mloglog\u001b[0m\u001b[0;34m(\u001b[0m\u001b[0mtR\u001b[0m\u001b[0;34m,\u001b[0m \u001b[0mFnuR\u001b[0m\u001b[0;34m,\u001b[0m \u001b[0mlabel\u001b[0m\u001b[0;34m=\u001b[0m\u001b[0;34m'Radio'\u001b[0m\u001b[0;34m)\u001b[0m\u001b[0;34m\u001b[0m\u001b[0;34m\u001b[0m\u001b[0m\n\u001b[0m\u001b[1;32m      2\u001b[0m \u001b[0mplt\u001b[0m\u001b[0;34m.\u001b[0m\u001b[0mloglog\u001b[0m\u001b[0;34m(\u001b[0m\u001b[0mtO\u001b[0m\u001b[0;34m,\u001b[0m \u001b[0mFnuO\u001b[0m\u001b[0;34m)\u001b[0m\u001b[0;34m\u001b[0m\u001b[0;34m\u001b[0m\u001b[0m\n\u001b[1;32m      3\u001b[0m \u001b[0mplt\u001b[0m\u001b[0;34m.\u001b[0m\u001b[0mloglog\u001b[0m\u001b[0;34m(\u001b[0m\u001b[0mtX\u001b[0m\u001b[0;34m,\u001b[0m \u001b[0mFnuX\u001b[0m\u001b[0;34m)\u001b[0m\u001b[0;34m\u001b[0m\u001b[0;34m\u001b[0m\u001b[0m\n",
      "\u001b[0;31mNameError\u001b[0m: name 'tR' is not defined"
     ]
    }
   ],
   "source": [
    "\n"
   ]
  }
 ],
 "metadata": {
  "kernelspec": {
   "display_name": "Python 3",
   "language": "python",
   "name": "python3"
  },
  "language_info": {
   "codemirror_mode": {
    "name": "ipython",
    "version": 3
   },
   "file_extension": ".py",
   "mimetype": "text/x-python",
   "name": "python",
   "nbconvert_exporter": "python",
   "pygments_lexer": "ipython3",
   "version": "3.8.7"
  }
 },
 "nbformat": 4,
 "nbformat_minor": 4
}
