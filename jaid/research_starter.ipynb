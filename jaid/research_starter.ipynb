{
 "cells": [
  {
   "cell_type": "code",
   "execution_count": 13,
   "metadata": {},
   "outputs": [],
   "source": [
    "import numpy as np\n",
    "import matplotlib.pyplot as plt\n",
    "import scipy.optimize\n",
    "#import afterglowpy as grb"
   ]
  },
  {
   "cell_type": "code",
   "execution_count": 19,
   "metadata": {},
   "outputs": [],
   "source": [
    "def loadDataFromFile(filename):\n",
    "    \"\"\"\n",
    "    Load GRB afterglow data from a .txt file.\n",
    "    \n",
    "    Arguments\n",
    "    \n",
    "        filename: the name (and path) to the data file.\n",
    "        \n",
    "    Returns\n",
    "        \n",
    "        t: array\n",
    "            observed times in seconds\n",
    "        nu: array\n",
    "            observed frequency in Hz\n",
    "        Fnu: array\n",
    "            observed flux in mJy\n",
    "        Ferr: array\n",
    "            uncertainty in observed flux in mJy\n",
    "    \"\"\"\n",
    "    \n",
    "    \n",
    "    t_all, nu_all, Fnu_all, Ferr_all, ul_all = np.loadtxt(filename, usecols=[0,1,2,3,4], unpack=True)\n",
    "    \n",
    "    detections = (ul_all == 0.0)\n",
    "    t_det = t_all[detections]\n",
    "    nu_det = nu_all[detections]\n",
    "    Fnu_det = Fnu_all[detections]\n",
    "    Ferr_det = Ferr_all[detections]\n",
    "    \n",
    "    return t_det, nu_det, Fnu_det, Ferr_det\n",
    "    "
   ]
  },
  {
   "cell_type": "code",
   "execution_count": 20,
   "metadata": {},
   "outputs": [],
   "source": [
    "#load the data\n",
    "t, nu, fnu, Ferr = loadDataFromFile(\"../data/180720B_data.txt\")"
   ]
  },
  {
   "cell_type": "code",
   "execution_count": 27,
   "metadata": {},
   "outputs": [
    {
     "data": {
      "text/plain": [
       "Text(0, 0.5, 'brightness')"
      ]
     },
     "execution_count": 27,
     "metadata": {},
     "output_type": "execute_result"
    },
    {
     "data": {
      "image/png": "[encoded data removed]",
      "text/plain": [
       "<Figure size 432x288 with 1 Axes>"
      ]
     },
     "metadata": {
      "needs_background": "light"
     },
     "output_type": "display_data"
    }
   ],
   "source": [
    "plt.loglog(t, fnu, ls = \"\",marker = \".\")\n",
    "plt.xlabel(\"time\")\n",
    "plt.ylabel(\"brightness\")"
   ]
  },
  {
   "cell_type": "code",
   "execution_count": 29,
   "metadata": {},
   "outputs": [
    {
     "name": "stdout",
     "output_type": "stream",
     "text": [
      "(46,)\n",
      "(46,)\n",
      "(46,)\n"
     ]
    }
   ],
   "source": [
    "print(t.shape)\n",
    "print(nu.shape)\n",
    "print(fnu.shape)"
   ]
  },
  {
   "cell_type": "code",
   "execution_count": 30,
   "metadata": {},
   "outputs": [
    {
     "name": "stdout",
     "output_type": "stream",
     "text": [
      "[1.20899462e+18 1.20899462e+18 1.20899462e+18 1.20899462e+18\n",
      " 1.20899462e+18 1.20899462e+18 1.20899462e+18 1.20899462e+18\n",
      " 1.20899462e+18 1.20899462e+18 1.20899462e+18 1.20899462e+18\n",
      " 1.20899462e+18 1.20899462e+18 1.20899462e+18 1.20899462e+18\n",
      " 1.20899462e+18 1.20899462e+18 1.20899462e+18 1.20899462e+18\n",
      " 1.20899462e+18 1.20899462e+18 1.20899462e+18 1.20899462e+18\n",
      " 1.20899462e+18 1.55000000e+10 1.55000000e+10 1.55000000e+10\n",
      " 4.67706708e+14 4.67706708e+14 4.67706708e+14 4.67706708e+14\n",
      " 4.67706708e+14 4.67706708e+14 4.67706708e+14 4.67706708e+14\n",
      " 4.67706708e+14 4.67706708e+14 4.67706708e+14 4.67706708e+14\n",
      " 4.67706708e+14 4.67706708e+14 4.67706708e+14 4.67706708e+14\n",
      " 4.67706708e+14 1.40000000e+09]\n"
     ]
    }
   ],
   "source": [
    "print(nu)"
   ]
  },
  {
   "cell_type": "code",
   "execution_count": 33,
   "metadata": {},
   "outputs": [
    {
     "data": {
      "text/plain": [
       "Text(0, 0.5, 'brightness')"
      ]
     },
     "execution_count": 33,
     "metadata": {},
     "output_type": "execute_result"
    },
    {
     "data": {
      "image/png": "[encoded data removed]",
      "text/plain": [
       "<Figure size 432x288 with 1 Axes>"
      ]
     },
     "metadata": {
      "needs_background": "light"
     },
     "output_type": "display_data"
    }
   ],
   "source": [
    "nuX_lo = 10**16\n",
    "nuX_hi = 10**20\n",
    "nuX = nu[(nu > nuX_lo) & (nu < nuX_hi)]\n",
    "tX = t[(nu > nuX_lo) & (nu < nuX_hi)]\n",
    "fnuX = fnu[(nu > nuX_lo) & (nu < nuX_hi)]\n",
    "FerrX = Ferr[(nu > nuX_lo) & (nu < nuX_hi)]\n",
    "\n",
    "plt.loglog(tX, fnuX, ls = \"\",marker = \".\")\n",
    "plt.xlabel(\"time\")\n",
    "plt.ylabel(\"brightness\")"
   ]
  },
  {
   "cell_type": "code",
   "execution_count": 35,
   "metadata": {},
   "outputs": [
    {
     "data": {
      "text/plain": [
       "Text(0, 0.5, 'brightness')"
      ]
     },
     "execution_count": 35,
     "metadata": {},
     "output_type": "execute_result"
    },
    {
     "data": {
      "image/png": "[encoded data removed]",
      "text/plain": [
       "<Figure size 432x288 with 1 Axes>"
      ]
     },
     "metadata": {
      "needs_background": "light"
     },
     "output_type": "display_data"
    }
   ],
   "source": [
    "nuR_lo = 10**8\n",
    "nuR_hi = 10**11\n",
    "nuR = nu[(nu > nuR_lo) & (nu < nuR_hi)]\n",
    "tR = t[(nu > nuR_lo) & (nu < nuR_hi)]\n",
    "fnuR = fnu[(nu > nuR_lo) & (nu < nuR_hi)]\n",
    "FerrR = Ferr[(nu > nuR_lo) & (nu < nuR_hi)]\n",
    "\n",
    "plt.loglog(tR, fnuR, ls = \"\",marker = \".\")\n",
    "plt.xlabel(\"time\")\n",
    "plt.ylabel(\"brightness\")"
   ]
  },
  {
   "cell_type": "code",
   "execution_count": 37,
   "metadata": {},
   "outputs": [
    {
     "data": {
      "text/plain": [
       "Text(0, 0.5, 'brightness')"
      ]
     },
     "execution_count": 37,
     "metadata": {},
     "output_type": "execute_result"
    },
    {
     "data": {
      "image/png": "[encoded data removed]",
      "text/plain": [
       "<Figure size 432x288 with 1 Axes>"
      ]
     },
     "metadata": {
      "needs_background": "light"
     },
     "output_type": "display_data"
    }
   ],
   "source": [
    "nuO_lo = 10**13\n",
    "nuO_hi = 10**15\n",
    "nuO = nu[(nu > nuO_lo) & (nu < nuO_hi)]\n",
    "tO = t[(nu > nuO_lo) & (nu < nuO_hi)]\n",
    "fnuO = fnu[(nu > nuO_lo) & (nu < nuO_hi)]\n",
    "FerrO = Ferr[(nu > nuO_lo) & (nu < nuO_hi)]\n",
    "\n",
    "plt.loglog(tO, fnuO, ls = \"\",marker = \".\")\n",
    "plt.xlabel(\"time\")\n",
    "plt.ylabel(\"brightness\")"
   ]
  },
  {
   "cell_type": "code",
   "execution_count": null,
   "metadata": {},
   "outputs": [],
   "source": [
    "#nuX_lo = 10**16\n",
    "#nuX_hi = 10**20\n",
    "#nuO_lo = 10**13\n",
    "#nuO_hi = 10**15\n",
    "#nuR_lo = 10**8\n",
    "#nuR_hi = 10**11\n",
    "#nuR = nu[(nu > nuR_lo) & (nu < nuR_hi)]\n",
    "#tR = t[(nu > nuR_lo) & (nu < nuR_hi)]\n",
    "#fnuR = fnu[(nu > nuR_lo) & (nu < nuR_hi)]\n",
    "#FerrR = Ferr[(nu > nuR_lo) & (nu < nuR_hi)]\n",
    "#plt.loglog(tR, fnuR, ls = \"\",marker = \".\")\n",
    "#plt.xlabel(\"time\")\n",
    "#plt.ylabel(\"brightness\")\n"
   ]
  },
  {
   "cell_type": "code",
   "execution_count": 43,
   "metadata": {},
   "outputs": [
    {
     "data": {
      "text/plain": [
       "Text(0, 0.5, 'brightness')"
      ]
     },
     "execution_count": 43,
     "metadata": {},
     "output_type": "execute_result"
    },
    {
     "data": {
      "image/png": "[encoded data removed]",
      "text/plain": [
       "<Figure size 432x288 with 1 Axes>"
      ]
     },
     "metadata": {
      "needs_background": "light"
     },
     "output_type": "display_data"
    }
   ],
   "source": [
    "plt.loglog(tR, fnuR, ls = \"\",marker = \".\")\n",
    "plt.loglog(tX, fnuX, ls = \"\",marker = \".\")\n",
    "plt.loglog(tO, fnuO, ls = \"\",marker = \".\",c=\"red\")\n",
    "plt.xlabel(\"time\")\n",
    "plt.ylabel(\"brightness\")"
   ]
  },
  {
   "cell_type": "code",
   "execution_count": 50,
   "metadata": {},
   "outputs": [
    {
     "data": {
      "text/plain": [
       "<matplotlib.legend.Legend at 0x1159a0fa0>"
      ]
     },
     "execution_count": 50,
     "metadata": {},
     "output_type": "execute_result"
    },
    {
     "data": {
      "image/png": "[encoded data removed]",
      "text/plain": [
       "<Figure size 432x288 with 1 Axes>"
      ]
     },
     "metadata": {
      "needs_background": "light"
     },
     "output_type": "display_data"
    }
   ],
   "source": [
    "plt.errorbar(tR, fnuR, FerrR, ls = \"\",marker = \".\" , label= \"radio\")\n",
    "plt.errorbar(tX, fnuX, FerrX, ls = \"\",marker = \".\",label =\"x-ray\")\n",
    "plt.errorbar(tO, fnuO, FerrO, ls = \"\",marker = \".\",c=\"red\", label = \"optical\")\n",
    "plt.xlabel(\"time\")\n",
    "plt.ylabel(\"brightness\")\n",
    "plt.xscale(\"log\")\n",
    "plt.yscale(\"log\")\n",
    "plt.legend()"
   ]
  },
  {
   "cell_type": "code",
   "execution_count": null,
   "metadata": {},
   "outputs": [],
   "source": []
  }
 ],
 "metadata": {
  "kernelspec": {
   "display_name": "Python 3",
   "language": "python",
   "name": "python3"
  },
  "language_info": {
   "codemirror_mode": {
    "name": "ipython",
    "version": 3
   },
   "file_extension": ".py",
   "mimetype": "text/x-python",
   "name": "python",
   "nbconvert_exporter": "python",
   "pygments_lexer": "ipython3",
   "version": "3.8.5"
  }
 },
 "nbformat": 4,
 "nbformat_minor": 4
}
