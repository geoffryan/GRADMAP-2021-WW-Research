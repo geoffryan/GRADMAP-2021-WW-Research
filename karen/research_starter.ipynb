{
 "cells": [
  {
   "cell_type": "code",
   "execution_count": 1,
   "metadata": {},
   "outputs": [],
   "source": [
    "import numpy as np\n",
    "import matplotlib.pyplot as plt\n",
    "import scipy.optimize\n",
    "import afterglowpy as grb"
   ]
  },
  {
   "cell_type": "code",
   "execution_count": 2,
   "metadata": {},
   "outputs": [],
   "source": [
    "def loadDataFromFile(filename):\n",
    "    \"\"\"\n",
    "    Load GRB afterglow data from a .txt file.\n",
    "    \n",
    "    Arguments\n",
    "    \n",
    "        filename: the name (and path) to the data file.\n",
    "        \n",
    "    Returns\n",
    "        \n",
    "        t: array\n",
    "            observed times in seconds\n",
    "        nu: array\n",
    "            observed frequency in Hz\n",
    "        Fnu: array\n",
    "            observed flux in mJy\n",
    "        Ferr: array\n",
    "            uncertainty in observed flux in mJy\n",
    "    \"\"\"\n",
    "    \n",
    "    \n",
    "    t_all, nu_all, Fnu_all, Ferr_all, ul_all = np.loadtxt(filename, usecols=[0,1,2,3,4], unpack=True)\n",
    "    \n",
    "    detections = (ul_all == 0.0)\n",
    "    t_det = t_all[detections]\n",
    "    nu_det = nu_all[detections]\n",
    "    Fnu_det = Fnu_all[detections]\n",
    "    Ferr_det = Ferr_all[detections]\n",
    "    \n",
    "    return t_det, nu_det, Fnu_det, Ferr_det\n",
    "    "
   ]
  },
  {
   "cell_type": "code",
   "execution_count": 3,
   "metadata": {},
   "outputs": [],
   "source": [
    "t_data, nu_data, Fnu_data, Ferr_data = loadDataFromFile(\"180720B_data.txt\")"
   ]
  },
  {
   "cell_type": "code",
   "execution_count": 4,
   "metadata": {},
   "outputs": [
    {
     "data": {
      "text/plain": [
       "Text(0, 0.5, 'Flux (Brightness)')"
      ]
     },
     "execution_count": 4,
     "metadata": {},
     "output_type": "execute_result"
    },
    {
     "data": {
      "image/png": "[encoded data removed]",
      "text/plain": [
       "<Figure size 432x288 with 1 Axes>"
      ]
     },
     "metadata": {
      "needs_background": "light"
     },
     "output_type": "display_data"
    }
   ],
   "source": [
    "#plt.loglog spreads it all out in logarithmic scale\n",
    "\n",
    "plt.loglog(t_data, Fnu_data, ls = \"\", marker = \".\")\n",
    "plt.xlabel(\"Time\")\n",
    "plt.ylabel(\"Flux (Brightness)\")"
   ]
  },
  {
   "cell_type": "code",
   "execution_count": 5,
   "metadata": {},
   "outputs": [
    {
     "name": "stdout",
     "output_type": "stream",
     "text": [
      "(46,)\n",
      "(46,)\n",
      "(46,)\n"
     ]
    }
   ],
   "source": [
    "print(t_data.shape)\n",
    "print(nu_data.shape)\n",
    "print(Fnu_data.shape)"
   ]
  },
  {
   "cell_type": "code",
   "execution_count": 6,
   "metadata": {},
   "outputs": [
    {
     "name": "stdout",
     "output_type": "stream",
     "text": [
      "[1.20899462e+18 1.20899462e+18 1.20899462e+18 1.20899462e+18\n",
      " 1.20899462e+18 1.20899462e+18 1.20899462e+18 1.20899462e+18\n",
      " 1.20899462e+18 1.20899462e+18 1.20899462e+18 1.20899462e+18\n",
      " 1.20899462e+18 1.20899462e+18 1.20899462e+18 1.20899462e+18\n",
      " 1.20899462e+18 1.20899462e+18 1.20899462e+18 1.20899462e+18\n",
      " 1.20899462e+18 1.20899462e+18 1.20899462e+18 1.20899462e+18\n",
      " 1.20899462e+18 1.55000000e+10 1.55000000e+10 1.55000000e+10\n",
      " 4.67706708e+14 4.67706708e+14 4.67706708e+14 4.67706708e+14\n",
      " 4.67706708e+14 4.67706708e+14 4.67706708e+14 4.67706708e+14\n",
      " 4.67706708e+14 4.67706708e+14 4.67706708e+14 4.67706708e+14\n",
      " 4.67706708e+14 4.67706708e+14 4.67706708e+14 4.67706708e+14\n",
      " 4.67706708e+14 1.40000000e+09]\n"
     ]
    }
   ],
   "source": [
    "print(nu_data)"
   ]
  },
  {
   "cell_type": "code",
   "execution_count": 7,
   "metadata": {},
   "outputs": [
    {
     "data": {
      "text/plain": [
       "Text(0, 0.5, 'Flux (Brightness)')"
      ]
     },
     "execution_count": 7,
     "metadata": {},
     "output_type": "execute_result"
    },
    {
     "data": {
      "image/png": "[encoded data removed]",
      "text/plain": [
       "<Figure size 432x288 with 1 Axes>"
      ]
     },
     "metadata": {
      "needs_background": "light"
     },
     "output_type": "display_data"
    }
   ],
   "source": [
    "#Isolating X Ray frequencies\n",
    "\n",
    "nuX_lo = 10**16\n",
    "nuX_hi = 10**20\n",
    "nuX_data = nu_data[(nu_data>nuX_lo) & (nu_data<nuX_hi)]\n",
    "\n",
    "tX_data = t_data[(nu_data>nuX_lo) & (nu_data<nuX_hi)]\n",
    "\n",
    "FnuX_data = Fnu_data[(nu_data>nuX_lo) & (nu_data<nuX_hi)]\n",
    "\n",
    "FerrX_data = Ferr_data[(nu_data>nuX_lo) & (nu_data<nuX_hi)]\n",
    "\n",
    "plt.loglog(tX_data, FnuX_data, ls = \"\", marker = \".\")\n",
    "plt.xlabel(\"Time (X Ray)\")\n",
    "plt.ylabel(\"Flux (Brightness)\")"
   ]
  },
  {
   "cell_type": "code",
   "execution_count": 8,
   "metadata": {},
   "outputs": [
    {
     "data": {
      "text/plain": [
       "Text(0, 0.5, 'Flux (Brightness)')"
      ]
     },
     "execution_count": 8,
     "metadata": {},
     "output_type": "execute_result"
    },
    {
     "data": {
      "image/png": "[encoded data removed]",
      "text/plain": [
       "<Figure size 432x288 with 1 Axes>"
      ]
     },
     "metadata": {
      "needs_background": "light"
     },
     "output_type": "display_data"
    }
   ],
   "source": [
    "#Isolating Radio Frequencies\n",
    "\n",
    "nuR_lo = 30\n",
    "nuR_hi = 10**11\n",
    "nuR_data = nu_data[(nu_data>nuR_lo) & (nu_data<nuR_hi)]\n",
    "\n",
    "tR_data = t_data[(nu_data>nuR_lo) & (nu_data<nuR_hi)]\n",
    "\n",
    "FnuR_data = Fnu_data[(nu_data>nuR_lo) & (nu_data<nuR_hi)]\n",
    "\n",
    "FerrR_data = Ferr_data[(nu_data>nuR_lo) & (nu_data<nuR_hi)]\n",
    "\n",
    "plt.loglog(tR_data, FnuR_data, ls = \"\", marker = \".\")\n",
    "plt.xlabel(\"Time (Radio)\")\n",
    "plt.ylabel(\"Flux (Brightness)\")"
   ]
  },
  {
   "cell_type": "code",
   "execution_count": 9,
   "metadata": {},
   "outputs": [
    {
     "data": {
      "text/plain": [
       "Text(0, 0.5, 'Flux (Brightness)')"
      ]
     },
     "execution_count": 9,
     "metadata": {},
     "output_type": "execute_result"
    },
    {
     "data": {
      "image/png": "[encoded data removed]",
      "text/plain": [
       "<Figure size 432x288 with 1 Axes>"
      ]
     },
     "metadata": {
      "needs_background": "light"
     },
     "output_type": "display_data"
    }
   ],
   "source": [
    "#Isolating Optical Frequencies\n",
    "\n",
    "nuO_lo = 10**13\n",
    "nuO_hi = 10**15\n",
    "nuO_data = nu_data[(nu_data>nuO_lo) & (nu_data<nuO_hi)]\n",
    "\n",
    "tO_data = t_data[(nu_data>nuO_lo) & (nu_data<nuO_hi)]\n",
    "\n",
    "FnuO_data = Fnu_data[(nu_data>nuO_lo) & (nu_data<nuO_hi)]\n",
    "\n",
    "FerrO_data = Ferr_data[(nu_data>nuO_lo) & (nu_data<nuO_hi)]\n",
    "\n",
    "plt.loglog(tR_data, FnuR_data, ls = \"\", marker = \".\")\n",
    "plt.xlabel(\"Time (Optical)\")\n",
    "plt.ylabel(\"Flux (Brightness)\")"
   ]
  },
  {
   "cell_type": "code",
   "execution_count": 10,
   "metadata": {},
   "outputs": [
    {
     "data": {
      "image/png": "[encoded data removed]",
      "text/plain": [
       "<Figure size 432x288 with 1 Axes>"
      ]
     },
     "metadata": {
      "needs_background": "light"
     },
     "output_type": "display_data"
    }
   ],
   "source": [
    "plt.loglog(tR_data, FnuR_data, ls = \"\", marker = \".\", label = \"Radio\")\n",
    "plt.loglog(tO_data, FnuO_data, ls = \"\", marker = \".\", label = \"Optical\")\n",
    "plt.loglog(tX_data, FnuX_data, ls = \"\", marker = \".\", label = \"X Ray\")\n",
    "plt.xlabel(\"Time\")\n",
    "plt.ylabel(\"Flux (Brightness)\")\n",
    "plt.legend()\n",
    "plt.show()"
   ]
  },
  {
   "cell_type": "code",
   "execution_count": 12,
   "metadata": {},
   "outputs": [
    {
     "data": {
      "image/png": "[encoded data removed]",
      "text/plain": [
       "<Figure size 432x288 with 1 Axes>"
      ]
     },
     "metadata": {
      "needs_background": "light"
     },
     "output_type": "display_data"
    }
   ],
   "source": [
    "#This makes a graph that has uncertainty incorporated; uses 3 elements\n",
    "\n",
    "plt.errorbar(tR_data, FnuR_data, FerrR_data, ls = \"\", marker = \".\", label = \"Radio\")\n",
    "plt.errorbar(tO_data, FnuO_data, FerrO_data, ls = \"\", marker = \".\", label = \"Optical\")\n",
    "plt.errorbar(tX_data, FnuX_data, FerrX_data,ls = \"\", marker = \".\", label = \"X Ray\")\n",
    "\n",
    "plt.xscale(\"log\")\n",
    "\n",
    "plt.yscale('log')\n",
    "\n",
    "plt.xlabel(\"Time\")\n",
    "plt.ylabel(\"Flux (Brightness)\")\n",
    "plt.legend()\n",
    "plt.show()"
   ]
  },
  {
   "cell_type": "code",
   "execution_count": null,
   "metadata": {},
   "outputs": [],
   "source": []
  }
 ],
 "metadata": {
  "kernelspec": {
   "display_name": "Python 3",
   "language": "python",
   "name": "python3"
  },
  "language_info": {
   "codemirror_mode": {
    "name": "ipython",
    "version": 3
   },
   "file_extension": ".py",
   "mimetype": "text/x-python",
   "name": "python",
   "nbconvert_exporter": "python",
   "pygments_lexer": "ipython3",
   "version": "3.8.5"
  }
 },
 "nbformat": 4,
 "nbformat_minor": 4
}
