{
 "cells": [
  {
   "cell_type": "code",
   "execution_count": 1,
   "metadata": {},
   "outputs": [],
   "source": [
    "import numpy as np\n",
    "import matplotlib.pyplot as plt\n",
    "import scipy.optimize\n",
    "import afterglowpy as grb"
   ]
  },
  {
   "cell_type": "code",
   "execution_count": 2,
   "metadata": {},
   "outputs": [],
   "source": [
    "def loadDataFromFile(filename):\n",
    "    \"\"\"\n",
    "    Load GRB afterglow data from a .txt file.\n",
    "    \n",
    "    Arguments\n",
    "    \n",
    "        filename: the name (and path) to the data file.\n",
    "        \n",
    "    Returns\n",
    "        \n",
    "        t: array\n",
    "            observed times in seconds\n",
    "        nu: array\n",
    "            observed frequency in Hz\n",
    "        Fnu: array\n",
    "            observed flux in mJy\n",
    "        Ferr: array\n",
    "            uncertainty in observed flux in mJy\n",
    "    \"\"\"\n",
    "    \n",
    "    \n",
    "    t_all, nu_all, Fnu_all, Ferr_all, ul_all = np.loadtxt(filename, usecols=[0,1,2,3,4], unpack=True)\n",
    "    \n",
    "    detections = (ul_all == 0.0)\n",
    "    t_det = t_all[detections]\n",
    "    nu_det = nu_all[detections]\n",
    "    Fnu_det = Fnu_all[detections]\n",
    "    Ferr_det = Ferr_all[detections]\n",
    "    \n",
    "    return t_det, nu_det, Fnu_det, Ferr_det"
   ]
  },
  {
   "cell_type": "code",
   "execution_count": 3,
   "metadata": {},
   "outputs": [],
   "source": [
    "t_data, nu_data, Fnu_data, Ferr_data = loadDataFromFile(\"160509A_data.txt\")"
   ]
  },
  {
   "cell_type": "markdown",
   "metadata": {},
   "source": [
    "What do I want this code to do?\n",
    "\n",
    "*Make a function that splits three kinds of wavelengths\n",
    "    bonus points - make a single function that does all three\n",
    "*Make a model for each type of wavelength (??) setting a constant or... whatever\n",
    "*Plot all of them out on the same graph\n",
    "*Here goes nothing, sweet baby Jesus!"
   ]
  },
  {
   "cell_type": "markdown",
   "metadata": {},
   "source": [
    "Section 1: Slicing functions and separating the data"
   ]
  },
  {
   "cell_type": "code",
   "execution_count": 4,
   "metadata": {},
   "outputs": [],
   "source": [
    "def isoRSignals(t_data, nu_data, Fnu_data, Ferr_data):\n",
    "    tR_data = []\n",
    "    nuR_data = []\n",
    "    FnuR_data = []\n",
    "    FerrR_data = []\n",
    "    for i,nu in enumerate(nu_data): \n",
    "        if nu>30 and nu<10**11:\n",
    "            tR_data.append(t_data[i])\n",
    "            nuR_data.append(nu_data[i])\n",
    "            FnuR_data.append(Fnu_data[i])\n",
    "            FerrR_data.append(Ferr_data[i])\n",
    "    return tR_data, nuR_data, FnuR_data, FerrR_data"
   ]
  },
  {
   "cell_type": "markdown",
   "metadata": {},
   "source": [
    "tR_data, nuR_data, FnuR_data, FerrR_data = isoRSignals(t_data, nu_data, Fnu_data, Ferr_data)"
   ]
  },
  {
   "cell_type": "code",
   "execution_count": 5,
   "metadata": {},
   "outputs": [],
   "source": [
    "def isoOSignals(t_data, nu_data, Fnu_data, Ferr_data):\n",
    "    tO_data = []\n",
    "    nuO_data = []\n",
    "    FnuO_data = []\n",
    "    FerrO_data = []\n",
    "    for i,nu in enumerate(nu_data): \n",
    "        if nu>10**13 and nu<10**15:\n",
    "            tO_data.append(t_data[i])\n",
    "            nuO_data.append(nu_data[i])\n",
    "            FnuO_data.append(Fnu_data[i])\n",
    "            FerrO_data.append(Ferr_data[i])\n",
    "    return tO_data, nuO_data, FnuO_data, FerrO_data"
   ]
  },
  {
   "cell_type": "markdown",
   "metadata": {},
   "source": [
    "tO_data, nuO_data, FnuO_data, FerrO_data = isoOSignals(t_data, nu_data, Fnu_data, Ferr_data)"
   ]
  },
  {
   "cell_type": "code",
   "execution_count": 6,
   "metadata": {},
   "outputs": [],
   "source": [
    "def isoXSignals(t_data, nu_data, Fnu_data, Ferr_data):\n",
    "    tX_data = []\n",
    "    nuX_data = []\n",
    "    FnuX_data = []\n",
    "    FerrX_data = []\n",
    "    for i,nu in enumerate(nu_data): \n",
    "        if nu>10**16 and nu<10**20:\n",
    "            tX_data.append(t_data[i])\n",
    "            nuX_data.append(nu_data[i])\n",
    "            FnuX_data.append(Fnu_data[i])\n",
    "            FerrX_data.append(Ferr_data[i])\n",
    "    return tX_data, nuX_data, FnuX_data, FerrX_data"
   ]
  },
  {
   "cell_type": "markdown",
   "metadata": {},
   "source": [
    "tX_data, nuX_data, FnuX_data, FerrX_data = isoXSignals(t_data, nu_data, Fnu_data, Ferr_data)"
   ]
  },
  {
   "cell_type": "code",
   "execution_count": 7,
   "metadata": {},
   "outputs": [],
   "source": [
    "def isoSignal(t_data, nu_data, Fnu_data, Ferr_data):\n",
    "    tR_data, nuR_data, FnuR_data, FerrR_data = isoRSignals(t_data, nu_data, Fnu_data, Ferr_data)\n",
    "    tO_data, nuO_data, FnuO_data, FerrO_data = isoOSignals(t_data, nu_data, Fnu_data, Ferr_data)\n",
    "    tX_data, nuX_data, FnuX_data, FerrX_data = isoXSignals(t_data, nu_data, Fnu_data, Ferr_data)\n",
    "    return tR_data, nuR_data, FnuR_data, FerrR_data, tO_data, nuO_data, FnuO_data, FerrO_data,tX_data, nuX_data, FnuX_data, FerrX_data"
   ]
  },
  {
   "cell_type": "code",
   "execution_count": 8,
   "metadata": {},
   "outputs": [],
   "source": [
    "tR_data, nuR_data, FnuR_data, FerrR_data, tO_data, nuO_data, FnuO_data, FerrO_data,tX_data, nuX_data, FnuX_data, FerrX_data = isoSignal(t_data, nu_data, Fnu_data, Ferr_data)"
   ]
  },
  {
   "cell_type": "markdown",
   "metadata": {},
   "source": [
    "Section 2: Model values"
   ]
  },
  {
   "cell_type": "code",
   "execution_count": 9,
   "metadata": {},
   "outputs": [],
   "source": [
    "Z = {'jetType': grb.jet.TopHat, #type of jet structure\n",
    "   'specType':0,       #type of spectrum\n",
    "   'thetaObs':0,       #observer angle(radians)\n",
    "   'E0': 1.0e53,       #isotropic energy (erg)\n",
    "   'thetaCore': 0.1,   #jet opening angle (radians)\n",
    "   'n0': 1.0,          #ambient ISM density (cm^3{-3})\n",
    "   'p': 2.2,           #electron energy slope (no units)\n",
    "   'epsilon_e': 0.1,   #fraction of energy in accelerated electrons (no units)\n",
    "   'epsilon_B': 0.1,   #fraction of energy in magnetic field (no units)\n",
    "   'ksiN': 1.0,        #luminosity distancde (cm)\n",
    "   'dL': 1.0e28,       #redshift (no units)\n",
    "   'z': 0.5\n",
    "  }"
   ]
  },
  {
   "cell_type": "code",
   "execution_count": 10,
   "metadata": {},
   "outputs": [],
   "source": [
    "tR_model = np.array([1.0e3, 1.0e4, 1.0e5, 1.0e6])\n",
    "nuR_model = np.array([1.0e6,1.0e6,1.0e6,1.0e6])\n",
    "\n",
    "FnuR_model = grb.fluxDensity(tR_model, nuR_model, **Z)"
   ]
  },
  {
   "cell_type": "code",
   "execution_count": 11,
   "metadata": {},
   "outputs": [],
   "source": [
    "tO_model = np.array([1.0e3, 1.0e4, 1.0e5, 1.0e6])\n",
    "nuO_model = np.array([1.0e14,1.0e14,1.0e14,1.0e14])\n",
    "\n",
    "FnuO_model = grb.fluxDensity(tO_model, nuO_model, **Z)"
   ]
  },
  {
   "cell_type": "code",
   "execution_count": 12,
   "metadata": {},
   "outputs": [],
   "source": [
    "tX_model = np.array([1.0e3, 1.0e4, 1.0e5, 1.0e6])\n",
    "nuX_model = np.array([1.0e17,1.0e17,1.0e17,1.0e17])\n",
    "\n",
    "FnuX_model = grb.fluxDensity(tX_model, nuX_model, **Z)"
   ]
  },
  {
   "cell_type": "markdown",
   "metadata": {},
   "source": [
    "Section 3: Plotting the data"
   ]
  },
  {
   "cell_type": "code",
   "execution_count": 13,
   "metadata": {},
   "outputs": [
    {
     "data": {
      "image/png": "[encoded data removed]",
      "text/plain": [
       "<Figure size 432x288 with 1 Axes>"
      ]
     },
     "metadata": {
      "needs_background": "light"
     },
     "output_type": "display_data"
    }
   ],
   "source": [
    "plt.errorbar(tR_data, FnuR_data, FerrR_data, ls = \"\", marker = \".\", label = \"Radio\")\n",
    "plt.errorbar(tO_data, FnuO_data, FerrO_data, ls = \"\", marker = \".\", label = \"Optical\")\n",
    "plt.errorbar(tX_data, FnuX_data, FerrX_data, ls = \"\", marker = \".\", label = \"X-Ray\")\n",
    "plt.plot(tR_model, FnuR_model)\n",
    "plt.plot(tO_model, FnuO_model)\n",
    "plt.plot(tX_model, FnuX_model)\n",
    "plt.xscale('log')\n",
    "plt.yscale('log')\n",
    "plt.xlabel('time(s)')\n",
    "plt.ylabel('Flux (mJy)')\n",
    "plt.legend()\n",
    "plt.show()"
   ]
  }
 ],
 "metadata": {
  "kernelspec": {
   "display_name": "Python 3",
   "language": "python",
   "name": "python3"
  },
  "language_info": {
   "codemirror_mode": {
    "name": "ipython",
    "version": 3
   },
   "file_extension": ".py",
   "mimetype": "text/x-python",
   "name": "python",
   "nbconvert_exporter": "python",
   "pygments_lexer": "ipython3",
   "version": "3.8.5"
  }
 },
 "nbformat": 4,
 "nbformat_minor": 4
}
