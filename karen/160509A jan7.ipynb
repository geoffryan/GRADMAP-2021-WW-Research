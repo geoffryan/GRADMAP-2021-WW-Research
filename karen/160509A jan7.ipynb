{
 "cells": [
  {
   "cell_type": "code",
   "execution_count": 1,
   "metadata": {},
   "outputs": [],
   "source": [
    "import numpy as np\n",
    "import matplotlib.pyplot as plt\n",
    "import scipy.optimize\n",
    "import afterglowpy as grb"
   ]
  },
  {
   "cell_type": "code",
   "execution_count": 2,
   "metadata": {},
   "outputs": [],
   "source": [
    "def loadDataFromFile(filename):\n",
    "    \"\"\"\n",
    "    Load GRB afterglow data from a .txt file.\n",
    "    \n",
    "    Arguments\n",
    "    \n",
    "        filename: the name (and path) to the data file.\n",
    "        \n",
    "    Returns\n",
    "        \n",
    "        t: array\n",
    "            observed times in seconds\n",
    "        nu: array\n",
    "            observed frequency in Hz\n",
    "        Fnu: array\n",
    "            observed flux in mJy\n",
    "        Ferr: array\n",
    "            uncertainty in observed flux in mJy\n",
    "    \"\"\"\n",
    "    \n",
    "    \n",
    "    t_all, nu_all, Fnu_all, Ferr_all, ul_all = np.loadtxt(filename, usecols=[0,1,2,3,4], unpack=True)\n",
    "    \n",
    "    detections = (ul_all == 0.0)\n",
    "    t_det = t_all[detections]\n",
    "    nu_det = nu_all[detections]\n",
    "    Fnu_det = Fnu_all[detections]\n",
    "    Ferr_det = Ferr_all[detections]\n",
    "    \n",
    "    return t_det, nu_det, Fnu_det, Ferr_det"
   ]
  },
  {
   "cell_type": "code",
   "execution_count": 3,
   "metadata": {},
   "outputs": [],
   "source": [
    "t_data, nu_data, Fnu_data, Ferr_data = loadDataFromFile(\"160509A_data.txt\")"
   ]
  },
  {
   "cell_type": "code",
   "execution_count": 4,
   "metadata": {},
   "outputs": [
    {
     "name": "stdout",
     "output_type": "stream",
     "text": [
      "127\n"
     ]
    }
   ],
   "source": [
    "print(len(t_data))"
   ]
  },
  {
   "cell_type": "markdown",
   "metadata": {},
   "source": [
    "## Notes to self\n",
    "\n",
    "What does this code do?\n",
    "\n",
    "Given a text file with the data and using Geoff's load data function, the data splits itself into radio, optical and  x-ray signals based on the wavelength frequency using a set parameter. Each item has four elements: frequency (nu), time (t), flux in mJy (Fnu), and uncertainty in flux (Ferr). It produces models of each of these three signal types (also using set parameters), and it plots all eight variables (4 from the model and 4 from the data) and plots them.\n",
    "\n",
    "What do I want v.2 to do?\n",
    "  \n",
    "I want to be able to set variables for the discriminatory parameters in the function, so they're modifiable outside of them. In the same vein, I want to change the mechanism they use to optimize it (ie using & functions instead of for loops). I also want to make the internal variables in a function clearer, and change some things about the plotting to make the graph cleaner and more understandable.\n",
    "\n",
    "Notes about the GRB: 160509A is \"heavily extinted\"; there's a lot of dust in the galaxy the GRB went off and distorted the data. Affects optical data heavily"
   ]
  },
  {
   "cell_type": "markdown",
   "metadata": {},
   "source": [
    "## Section 1: Slicing functions and separating the data"
   ]
  },
  {
   "cell_type": "code",
   "execution_count": 5,
   "metadata": {},
   "outputs": [],
   "source": [
    "#limits\n",
    "\n",
    "nuR_lo = 30\n",
    "nuR_hi = 10**11\n",
    "nuO_lo = 10**13\n",
    "nuO_hi = 10**15\n",
    "nuX_lo = 10**16\n",
    "nuX_hi = 10**20"
   ]
  },
  {
   "cell_type": "code",
   "execution_count": 6,
   "metadata": {},
   "outputs": [],
   "source": [
    "def isoRSignals(time, freq, flux, ferr):\n",
    "    timeR = time[(nu_data>nuR_lo) & (nu_data<nuR_hi)]\n",
    "    freqR = freq[(nu_data>nuR_lo) & (nu_data<nuR_hi)]\n",
    "    fluxR = flux[(nu_data>nuR_lo) & (nu_data<nuR_hi)]\n",
    "    ferrR = ferr[(nu_data>nuR_lo) & (nu_data<nuR_hi)]\n",
    "    return timeR, freqR, fluxR, ferrR"
   ]
  },
  {
   "cell_type": "markdown",
   "metadata": {},
   "source": [
    "tR_data, nuR_data, FnuR_data, FerrR_data = isoRSignals(t_data, nu_data, Fnu_data, Ferr_data)"
   ]
  },
  {
   "cell_type": "code",
   "execution_count": 7,
   "metadata": {},
   "outputs": [],
   "source": [
    "def isoOSignals(time, freq, flux, ferr):\n",
    "    timeO = time[(nu_data>nuO_lo) & (nu_data<nuO_hi)]\n",
    "    freqO = freq[(nu_data>nuO_lo) & (nu_data<nuO_hi)]\n",
    "    fluxO = flux[(nu_data>nuO_lo) & (nu_data<nuO_hi)]\n",
    "    ferrO = ferr[(nu_data>nuO_lo) & (nu_data<nuO_hi)]\n",
    "    return timeO, freqO, fluxO, ferrO"
   ]
  },
  {
   "cell_type": "markdown",
   "metadata": {},
   "source": [
    "tO_data, nuO_data, FnuO_data, FerrO_data = isoOSignals(t_data, nu_data, Fnu_data, Ferr_data)"
   ]
  },
  {
   "cell_type": "code",
   "execution_count": 8,
   "metadata": {},
   "outputs": [],
   "source": [
    "def isoXSignals(time, freq, flux, ferr):\n",
    "    timeX = time[(nu_data>nuX_lo) & (nu_data<nuX_hi)]\n",
    "    freqX = freq[(nu_data>nuX_lo) & (nu_data<nuX_hi)]\n",
    "    fluxX = flux[(nu_data>nuX_lo) & (nu_data<nuX_hi)]\n",
    "    ferrX = ferr[(nu_data>nuX_lo) & (nu_data<nuX_hi)]\n",
    "    return timeX, freqX, fluxX, ferrX"
   ]
  },
  {
   "cell_type": "markdown",
   "metadata": {},
   "source": [
    "tX_data, nuX_data, FnuX_data, FerrX_data = isoXSignals(t_data, nu_data, Fnu_data, Ferr_data)\n",
    "\n",
    "print(tX_data)"
   ]
  },
  {
   "cell_type": "code",
   "execution_count": 9,
   "metadata": {},
   "outputs": [],
   "source": [
    "def isoSignal(t_data, nu_data, Fnu_data, Ferr_data):\n",
    "    tR_data, nuR_data, FnuR_data, FerrR_data = isoRSignals(t_data, nu_data, Fnu_data, Ferr_data)\n",
    "    tO_data, nuO_data, FnuO_data, FerrO_data = isoOSignals(t_data, nu_data, Fnu_data, Ferr_data)\n",
    "    tX_data, nuX_data, FnuX_data, FerrX_data = isoXSignals(t_data, nu_data, Fnu_data, Ferr_data)\n",
    "    return tR_data, nuR_data, FnuR_data, FerrR_data, tO_data, nuO_data, FnuO_data, FerrO_data,tX_data, nuX_data, FnuX_data, FerrX_data"
   ]
  },
  {
   "cell_type": "code",
   "execution_count": 10,
   "metadata": {},
   "outputs": [],
   "source": [
    "(tR_data, nuR_data, FnuR_data, FerrR_data, \n",
    "tO_data, nuO_data, FnuO_data, FerrO_data, \n",
    "tX_data, nuX_data, FnuX_data, FerrX_data) = isoSignal(t_data, nu_data, Fnu_data, Ferr_data)"
   ]
  },
  {
   "cell_type": "markdown",
   "metadata": {},
   "source": [
    "## Section 2: Model values"
   ]
  },
  {
   "cell_type": "code",
   "execution_count": 11,
   "metadata": {},
   "outputs": [],
   "source": [
    "Z = {'jetType': grb.jet.TopHat, #type of jet structure\n",
    "   'specType':0,       #type of spectrum\n",
    "   'thetaObs':0,       #observer angle(radians)\n",
    "   'E0': 2.0e53,       #isotropic energy (erg)\n",
    "   'thetaCore': 0.175,   #jet opening angle (radians)\n",
    "   'n0': 1.0,          #ambient ISM density (cm^3{-3})\n",
    "   'p': 2.2,           #electron energy slope (no units)\n",
    "   'epsilon_e': 0.1,   #fraction of energy in accelerated electrons (no units)\n",
    "   'epsilon_B': 0.0001,   #fraction of energy in magnetic field (no units)\n",
    "   'ksiN': 1.0,        #fraction of electrons that get accelerated\n",
    "   'dL': 2.475732e+28, #luminosity distance (cm)\n",
    "   'z': 1.17           #redshift\n",
    "  }\n",
    "\n",
    "#The luminosity distance DL is 8023.3 Mpc\n",
    "#2.475732e+28, luminosity distance(DL) in cm"
   ]
  },
  {
   "cell_type": "code",
   "execution_count": 12,
   "metadata": {},
   "outputs": [
    {
     "name": "stdout",
     "output_type": "stream",
     "text": [
      "[5.000e+09 7.400e+09 8.500e+09 1.100e+10 5.000e+09 7.400e+09 8.500e+09\n",
      " 1.100e+10 1.350e+10 1.600e+10 1.920e+10 2.450e+10 3.000e+10 3.700e+10\n",
      " 5.000e+09 7.400e+09 1.920e+10 2.450e+10 5.000e+09 7.400e+09 8.500e+09\n",
      " 1.100e+10 1.350e+10 1.600e+10 1.920e+10 2.450e+10 3.000e+10 3.700e+10\n",
      " 1.644e+09 2.679e+09 3.523e+09 5.000e+09 7.400e+09 8.500e+09 1.100e+10\n",
      " 1.350e+10 1.600e+10 1.920e+10 2.450e+10 3.000e+10 3.700e+10 1.255e+09\n",
      " 1.644e+09 2.679e+09 3.523e+09 1.255e+09 1.644e+09 2.679e+09 3.523e+09\n",
      " 5.000e+09 7.400e+09 8.500e+09 1.100e+10 1.350e+10 1.600e+10 1.920e+10\n",
      " 2.450e+10 3.000e+10 3.700e+10 1.255e+09 1.644e+09 2.679e+09 3.523e+09\n",
      " 5.000e+09 7.400e+09 8.500e+09 1.100e+10 1.350e+10 1.600e+10 1.920e+10\n",
      " 2.450e+10 3.000e+10 3.700e+10 2.679e+09 3.523e+09 5.000e+09 7.400e+09\n",
      " 8.500e+09 1.100e+10 1.350e+10 1.600e+10 6.000e+09 9.000e+09 5.000e+09\n",
      " 6.900e+09 8.500e+09 9.500e+09 6.000e+09 9.000e+09]\n"
     ]
    }
   ],
   "source": [
    "print(nuR_data)"
   ]
  },
  {
   "cell_type": "code",
   "execution_count": 13,
   "metadata": {},
   "outputs": [
    {
     "name": "stdout",
     "output_type": "stream",
     "text": [
      "[4.83548387e+14 4.83548387e+14 4.83548387e+14 4.83548387e+14\n",
      " 1.95947712e+14 1.95947712e+14 2.67678571e+14 2.67678571e+14\n",
      " 6.37872340e+14 6.37872340e+14]\n"
     ]
    }
   ],
   "source": [
    "print(nuO_data)"
   ]
  },
  {
   "cell_type": "code",
   "execution_count": 14,
   "metadata": {},
   "outputs": [
    {
     "name": "stdout",
     "output_type": "stream",
     "text": [
      "[1.20899462e+18 1.20899462e+18 1.20899462e+18 1.20899462e+18\n",
      " 1.20899462e+18 1.20899462e+18 1.20899462e+18 1.20899462e+18\n",
      " 1.20899462e+18 1.20899462e+18 1.20899462e+18 1.20899462e+18\n",
      " 1.20899462e+18 1.20899462e+18 1.20899462e+18 1.20899462e+18\n",
      " 1.20899462e+18 1.20899462e+18 1.20899462e+18 1.20899462e+18\n",
      " 1.20899462e+18 1.20899462e+18 1.20899462e+18 1.20899462e+18\n",
      " 1.20899462e+18 1.20899462e+18 1.20899462e+18 1.20899462e+18]\n"
     ]
    }
   ],
   "source": [
    "print(nuX_data)"
   ]
  },
  {
   "cell_type": "code",
   "execution_count": 28,
   "metadata": {},
   "outputs": [],
   "source": [
    "tR_model = np.geomspace(1.0e3, 1.0e7, 1000)\n",
    "nuR_model = np.empty(tR_model.shape)\n",
    "nuR_model[:] = 10**10\n",
    "\n",
    "FnuR_model = grb.fluxDensity(tR_model, nuR_model, **Z)"
   ]
  },
  {
   "cell_type": "code",
   "execution_count": 29,
   "metadata": {},
   "outputs": [],
   "source": [
    "tO_model = np.geomspace(1.0e3, 1.0e7, 1000)\n",
    "nuO_model = np.empty(tO_model.shape)\n",
    "nuO_model[:] = 3*10**14\n",
    "\n",
    "FnuO_model = grb.fluxDensity(tO_model, nuO_model, **Z)"
   ]
  },
  {
   "cell_type": "code",
   "execution_count": 30,
   "metadata": {},
   "outputs": [],
   "source": [
    "tX_model = np.geomspace(1.0e3, 1.0e7, 1000)\n",
    "nuX_model = np.empty(tX_model.shape)\n",
    "nuX_model[:] = 1.2*10**18\n",
    "\n",
    "FnuX_model = grb.fluxDensity(tX_model, nuX_model, **Z)"
   ]
  },
  {
   "cell_type": "markdown",
   "metadata": {},
   "source": [
    "## Section 3: Plotting the data"
   ]
  },
  {
   "cell_type": "code",
   "execution_count": 31,
   "metadata": {},
   "outputs": [
    {
     "data": {
      "image/png": "[encoded data removed]",
      "text/plain": [
       "<Figure size 432x288 with 1 Axes>"
      ]
     },
     "metadata": {
      "needs_background": "light"
     },
     "output_type": "display_data"
    }
   ],
   "source": [
    "plt.errorbar(tR_data, FnuR_data, FerrR_data, ls = \"\", marker = \".\", label = \"Radio\", color = \"red\")\n",
    "plt.errorbar(tO_data, FnuO_data, FerrO_data, ls = \"\", marker = \".\", label = \"Optical\", color = \"purple\")\n",
    "plt.errorbar(tX_data, FnuX_data, FerrX_data, ls = \"\", marker = \".\", label = \"X-Ray\", color = \"orange\")\n",
    "plt.plot(tR_model, FnuR_model, color = \"red\")\n",
    "plt.plot(tO_model, FnuO_model, color = \"purple\")\n",
    "plt.plot(tX_model, FnuX_model, color = \"orange\")\n",
    "plt.xscale('log')\n",
    "plt.yscale('log')\n",
    "plt.xlabel('time(s)')\n",
    "plt.ylabel('Flux (mJy)')\n",
    "plt.legend()\n",
    "plt.show()"
   ]
  },
  {
   "cell_type": "code",
   "execution_count": 32,
   "metadata": {
    "scrolled": true
   },
   "outputs": [
    {
     "name": "stdout",
     "output_type": "stream",
     "text": [
      "[4.83548387e+14 4.83548387e+14 4.83548387e+14 4.83548387e+14\n",
      " 1.95947712e+14 1.95947712e+14 2.67678571e+14 2.67678571e+14\n",
      " 6.37872340e+14 6.37872340e+14]\n",
      "[1.13684600e-03 9.70562000e-04 1.29081500e-03 1.52197600e-03\n",
      " 3.99526100e-03 3.75000000e-05 7.32952000e-03 3.61000000e-05\n",
      " 1.33528044e-01 4.28817410e-02]\n"
     ]
    }
   ],
   "source": [
    "print(nuO_data)\n",
    "print(FerrO_data)"
   ]
  },
  {
   "cell_type": "code",
   "execution_count": 33,
   "metadata": {},
   "outputs": [],
   "source": [
    "#we're gonna make a function that makes a decent guess for every parameter in the model\n",
    "#we're gonna get a prediction of fluxes por specific points\n",
    "\n",
    "def fit_function(x_data, logE0, thetaCore, logn0, p, logepse, logepsB):\n",
    "    \"\"\"\n",
    "    Assumes xdata  = [t_data, nu_data, Z]\n",
    "    \"\"\"\n",
    "    \n",
    "    t_data = x_data['t_data']\n",
    "    nu_data = x_data['nu_data']\n",
    "    Z = x_data['Z']\n",
    "    \n",
    "    Z['E0'] = 10.0**logE0\n",
    "    Z['thetaCore'] = thetaCore\n",
    "    Z['n0'] = 10.0**logn0\n",
    "    Z['p'] = p\n",
    "    Z['epsilon_e'] = 10.0**logepse\n",
    "    Z['epsilon_B'] = 10.0**logepsB\n",
    "     \n",
    "    #print(E0, thetaCore, n0, p, logepse, logepsB)\n",
    "    \n",
    "    Fnu = grb.fluxDensity(t_data, nu_data, **Z)\n",
    "    return Fnu"
   ]
  },
  {
   "cell_type": "code",
   "execution_count": 34,
   "metadata": {},
   "outputs": [],
   "source": [
    "def chi2_function(Fnu_model, Fnu_data, Ferr_data):\n",
    "    \n",
    "    residual = (Fnu_model - Fnu_data) / Ferr_data\n",
    "    \n",
    "    return np.sum(residual**2)\n",
    "\n"
   ]
  },
  {
   "cell_type": "markdown",
   "metadata": {},
   "source": [
    "def filterO_data(tO_data, nuO_data, FnuO_data, FerrO_data):\n",
    "    bad = [FerrO_data<10**-4]\n",
    "    good = not bad\n",
    "    \n",
    "    t_filtered = t_data[good]\n",
    "    nu_filtered = nu_data[good]\n",
    "    Fnu_filtered = Fnu_data[good]\n",
    "    Ferr_filtered = Ferr_data[good]\n",
    "     \n",
    "    return t_filtered, nu_filtered, Fnu_filtered, Ferr_filtered"
   ]
  },
  {
   "cell_type": "code",
   "execution_count": 35,
   "metadata": {},
   "outputs": [],
   "source": [
    "def filter_data(t_data, nu_data, Fnu_data, Ferr_data):\n",
    "    bad = (nu_data>4.8e+14) & (4.9e+14>nu_data)\n",
    "    good = ~bad\n",
    "    \n",
    "    t_filtered = t_data[good]\n",
    "    nu_filtered = nu_data[good]\n",
    "    Fnu_filtered = Fnu_data[good]\n",
    "    Ferr_filtered = Ferr_data[good]\n",
    "     \n",
    "    return t_filtered, nu_filtered, Fnu_filtered, Ferr_filtered"
   ]
  },
  {
   "cell_type": "markdown",
   "metadata": {},
   "source": [
    "def chi2_function(Fnu_model, Fnu_data, Ferr_data):\n",
    "    return np.sum((Fnu_model - Fnu_data) / Ferr_data**2 )"
   ]
  },
  {
   "cell_type": "code",
   "execution_count": 36,
   "metadata": {},
   "outputs": [],
   "source": [
    "# Parameters for the model\n",
    "Zguess = {'jetType': grb.jet.TopHat, #type of jet structure\n",
    "   'specType':0,       #type of spectrum\n",
    "   'thetaObs':0,       #observer angle(radians)\n",
    "   'E0': 2.0e53,       #isotropic energy (erg)\n",
    "   'thetaCore': 0.175,   #jet opening angle (radians)\n",
    "   'n0': 1.0,          #ambient ISM density (cm^3{-3})\n",
    "   'p': 2.2,           #electron energy slope (no units)\n",
    "   'epsilon_e': 0.1,   #fraction of energy in accelerated electrons (no units)\n",
    "   'epsilon_B': 0.0001,   #fraction of energy in magnetic field (no units)\n",
    "   'ksiN': 1.0,        #fraction of electrons that get accelerated\n",
    "   'dL': 2.475732e+28, #luminosity distance (cm)\n",
    "   'z': 1.17           #redshift\n",
    "  }\n",
    "\n",
    "t_data, nu_data, Fnu_data, Ferr_data = filter_data(t_data, nu_data, Fnu_data, Ferr_data)\n",
    "\n",
    "x_data = {'t_data': t_data, \n",
    "          'nu_data': nu_data,\n",
    "          'Z': Zguess}\n",
    "Fnu_model = fit_function(x_data, 53.0, 0.175, 0.0, 2.2, -1.0, -4.0)"
   ]
  },
  {
   "cell_type": "code",
   "execution_count": 37,
   "metadata": {},
   "outputs": [
    {
     "name": "stdout",
     "output_type": "stream",
     "text": [
      "33701.97854994028\n"
     ]
    }
   ],
   "source": [
    "print(chi2_function(Fnu_model, Fnu_data, Ferr_data))"
   ]
  },
  {
   "cell_type": "code",
   "execution_count": 38,
   "metadata": {},
   "outputs": [
    {
     "name": "stdout",
     "output_type": "stream",
     "text": [
      "[54.12225296  0.05915178 -0.8132933   2.06076741 -0.50228043 -4.55505919]\n",
      "[[ 3.52179416e-01 -3.54546951e-02 -1.66222412e+00  1.48628697e-03\n",
      "  -3.57964491e-01  9.55859618e-01]\n",
      " [-3.54546951e-02  3.62732121e-03  1.71213143e-01  6.54080758e-05\n",
      "   3.57314931e-02 -9.99726330e-02]\n",
      " [-1.66222412e+00  1.71213143e-01  8.12353146e+00  8.60208990e-03\n",
      "   1.66871409e+00 -4.77539040e+00]\n",
      " [ 1.48628697e-03  6.54080758e-05  8.60208990e-03  1.20635233e-03\n",
      "  -4.33645437e-03 -1.08877879e-02]\n",
      " [-3.57964491e-01  3.57314931e-02  1.66871409e+00 -4.33645437e-03\n",
      "   3.74807720e-01 -9.50993736e-01]\n",
      " [ 9.55859618e-01 -9.99726330e-02 -4.77539040e+00 -1.08877879e-02\n",
      "  -9.50993736e-01  2.84717577e+00]]\n",
      "10139.351553594872\n"
     ]
    },
    {
     "data": {
      "image/png": "[encoded data removed]",
      "text/plain": [
       "<Figure size 432x288 with 1 Axes>"
      ]
     },
     "metadata": {
      "needs_background": "light"
     },
     "output_type": "display_data"
    }
   ],
   "source": [
    "#Try a fit\n",
    "#.       E0      thetaCore  density   p\n",
    "guess = [53,      0.175,      0.0,     2.2, -1.0, -4.0]\n",
    "\n",
    "#Setbounds so afterglowpy doesn't sceream\n",
    "lower_bounds = np.array([48, 0.0, -5, 2.0, -5.0, -5.0])\n",
    "upper_bounds = np.array([56, np.pi/2, 5, 3.0, -0.5, -0.5])\n",
    "bounds = (lower_bounds, upper_bounds)\n",
    "\n",
    "popt, pcov = scipy.optimize.curve_fit(fit_function, x_data, Fnu_data, \n",
    "                                      sigma = Ferr_data, p0=guess, bounds=bounds)\n",
    "\n",
    "print(popt)\n",
    "print(pcov)\n",
    "\n",
    "#Compute model with guess values\n",
    "Fnu_model = fit_function(x_data, *popt)\n",
    "\n",
    "#Compute chi2 of guess\n",
    "print(chi2_function(Fnu_model, Fnu_data, Ferr_data))\n",
    "\n",
    "xdataR = {'t_data': tR_model,\n",
    "         'nu_data': nuR_model,\n",
    "         'Z': Zguess}\n",
    "xdataO = {'t_data': tO_model,\n",
    "         'nu_data': nuO_model,\n",
    "         'Z': Zguess}\n",
    "xdataX = {'t_data': tX_model,\n",
    "         'nu_data': nuX_model,\n",
    "         'Z': Zguess}\n",
    "\n",
    "# Calculate the model!\n",
    "FnuR = fit_function(xdataR, *popt)\n",
    "FnuO = fit_function(xdataO, *popt)\n",
    "FnuX = fit_function(xdataX, *popt)\n",
    "\n",
    "# Plot the data\n",
    "plt.errorbar(t_data, Fnu_data, Ferr_data, ls='', marker='.', label='data')\n",
    "\n",
    "# Plot the model\n",
    "plt.plot(tR_model, FnuR, label='model - radio')\n",
    "plt.plot(tO_model, FnuO, label='model - optical')\n",
    "plt.plot(tX_model, FnuX, label='model - x-ray')\n",
    "\n",
    "plt.xscale('log')\n",
    "plt.yscale('log')\n",
    "\n",
    "plt.show()\n"
   ]
  },
  {
   "cell_type": "code",
   "execution_count": 52,
   "metadata": {},
   "outputs": [],
   "source": [
    "logE0_best = popt[0]   #best value for the energy\n",
    "thetaC_best = popt[1]  #best value for the opening angle\n",
    "\n",
    "e2_logE0 = pcov[0, 0] #error squared of the energy\n",
    "e2_thetaC = pcov[1,1]  #error squared of the opening angle\n",
    "\n",
    "logE0_err = np.sqrt(e2_logE0)\n",
    "thetaC_err = np.sqrt(e2_thetaC)"
   ]
  },
  {
   "cell_type": "code",
   "execution_count": 63,
   "metadata": {},
   "outputs": [
    {
     "name": "stdout",
     "output_type": "stream",
     "text": [
      "54.1222529647343\n",
      "1.8107172466572535e+54\n",
      "3.991245431496253\n"
     ]
    }
   ],
   "source": [
    "print(logE0_best)\n",
    "\n",
    "E0_best = 10.0 ** logE0_best\n",
    "\n",
    "E0_err = E0_best  * np.log(10.0) * logE0_err\n",
    "print(E0_err)\n",
    "\n",
    "print(E0)"
   ]
  },
  {
   "cell_type": "code",
   "execution_count": 64,
   "metadata": {},
   "outputs": [
    {
     "name": "stdout",
     "output_type": "stream",
     "text": [
      "2.3175654517951652e+51\n",
      "2.3182413206249633e+51\n"
     ]
    }
   ],
   "source": [
    "Etotal_best = E0_best * (1 - np.cos(thetaC_best))\n",
    "print(Etotal_best)\n",
    "\n",
    "Etotal_alt = (E0_best * thetaC_best**2)/2\n",
    "print(Etotal_alt)"
   ]
  },
  {
   "cell_type": "code",
   "execution_count": 66,
   "metadata": {
    "scrolled": true
   },
   "outputs": [
    {
     "name": "stdout",
     "output_type": "stream",
     "text": [
      "E0: 1.325113152852939e+54 +/- 1.8107172466572535e+54 erg\n",
      "E total: 2.3175654517951652e+51 +/- 7.884894002787402e+51 erg\n",
      "E total aprox: 2.3182413206249633e+51 +/- 2.3182413206249633e+51 erg\n"
     ]
    }
   ],
   "source": [
    "#last thing, we have to figure out the uncertainty of this number\n",
    "#error propagation; there is naturally some errors even in our best guesses\n",
    "#using rules \n",
    "\n",
    "Etotal_err = Etotal_best * (E0_err/E0_best + np.sin(thetaC_best) * thetaC_err/(1-np.cos(thetaC_best)))\n",
    "\n",
    "Etotal_alt_err = 0.5 * E0_best * thetaC_best**2\n",
    "\n",
    "print(\"E0:\", E0_best, \"+/-\", E0_err, \"erg\")\n",
    "print(\"E total:\", Etotal_best, \"+/-\", Etotal_err, \"erg\")\n",
    "print(\"E total aprox:\", Etotal_alt, \"+/-\", Etotal_alt_err, \"erg\")"
   ]
  },
  {
   "cell_type": "code",
   "execution_count": null,
   "metadata": {},
   "outputs": [],
   "source": []
  }
 ],
 "metadata": {
  "kernelspec": {
   "display_name": "Python 3",
   "language": "python",
   "name": "python3"
  },
  "language_info": {
   "codemirror_mode": {
    "name": "ipython",
    "version": 3
   },
   "file_extension": ".py",
   "mimetype": "text/x-python",
   "name": "python",
   "nbconvert_exporter": "python",
   "pygments_lexer": "ipython3",
   "version": "3.8.5"
  }
 },
 "nbformat": 4,
 "nbformat_minor": 4
}
