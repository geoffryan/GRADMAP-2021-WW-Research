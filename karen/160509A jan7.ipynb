{
 "cells": [
  {
   "cell_type": "code",
   "execution_count": 1,
   "metadata": {},
   "outputs": [],
   "source": [
    "import numpy as np\n",
    "import matplotlib.pyplot as plt\n",
    "import scipy.optimize\n",
    "import afterglowpy as grb"
   ]
  },
  {
   "cell_type": "code",
   "execution_count": 2,
   "metadata": {},
   "outputs": [],
   "source": [
    "def loadDataFromFile(filename):\n",
    "    \"\"\"\n",
    "    Load GRB afterglow data from a .txt file.\n",
    "    \n",
    "    Arguments\n",
    "    \n",
    "        filename: the name (and path) to the data file.\n",
    "        \n",
    "    Returns\n",
    "        \n",
    "        t: array\n",
    "            observed times in seconds\n",
    "        nu: array\n",
    "            observed frequency in Hz\n",
    "        Fnu: array\n",
    "            observed flux in mJy\n",
    "        Ferr: array\n",
    "            uncertainty in observed flux in mJy\n",
    "    \"\"\"\n",
    "    \n",
    "    \n",
    "    t_all, nu_all, Fnu_all, Ferr_all, ul_all = np.loadtxt(filename, usecols=[0,1,2,3,4], unpack=True)\n",
    "    \n",
    "    detections = (ul_all == 0.0)\n",
    "    t_det = t_all[detections]\n",
    "    nu_det = nu_all[detections]\n",
    "    Fnu_det = Fnu_all[detections]\n",
    "    Ferr_det = Ferr_all[detections]\n",
    "    \n",
    "    return t_det, nu_det, Fnu_det, Ferr_det"
   ]
  },
  {
   "cell_type": "code",
   "execution_count": 3,
   "metadata": {},
   "outputs": [],
   "source": [
    "t_data, nu_data, Fnu_data, Ferr_data = loadDataFromFile(\"160509A_data.txt\")"
   ]
  },
  {
   "cell_type": "code",
   "execution_count": 4,
   "metadata": {},
   "outputs": [
    {
     "name": "stdout",
     "output_type": "stream",
     "text": [
      "127\n"
     ]
    }
   ],
   "source": [
    "print(len(t_data))"
   ]
  },
  {
   "cell_type": "markdown",
   "metadata": {},
   "source": [
    "## Notes to self\n",
    "\n",
    "What does this code do?\n",
    "\n",
    "Given a text file with the data and using Geoff's load data function, the data splits itself into radio, optical and  x-ray signals based on the wavelength frequency using a set parameter. Each item has four elements: frequency (nu), time (t), flux in mJy (Fnu), and uncertainty in flux (Ferr). It produces models of each of these three signal types (also using set parameters), and it plots all eight variables (4 from the model and 4 from the data) and plots them.\n",
    "\n",
    "What do I want v.2 to do?\n",
    "  \n",
    "I want to be able to set variables for the discriminatory parameters in the function, so they're modifiable outside of them. In the same vein, I want to change the mechanism they use to optimize it (ie using & functions instead of for loops). I also want to make the internal variables in a function clearer, and change some things about the plotting to make the graph cleaner and more understandable.\n",
    "\n",
    "Notes about the GRB: 160509A is \"heavily extinted\"; there's a lot of dust in the galaxy the GRB went off and distorted the data. Affects optical data heavily"
   ]
  },
  {
   "cell_type": "markdown",
   "metadata": {},
   "source": [
    "## Section 1: Slicing functions and separating the data"
   ]
  },
  {
   "cell_type": "code",
   "execution_count": 5,
   "metadata": {},
   "outputs": [],
   "source": [
    "#limits\n",
    "\n",
    "nuR_lo = 30\n",
    "nuR_hi = 10**11\n",
    "nuO_lo = 10**13\n",
    "nuO_hi = 10**15\n",
    "nuX_lo = 10**16\n",
    "nuX_hi = 10**20"
   ]
  },
  {
   "cell_type": "code",
   "execution_count": 6,
   "metadata": {},
   "outputs": [],
   "source": [
    "def isoRSignals(time, freq, flux, ferr):\n",
    "    timeR = time[(nu_data>nuR_lo) & (nu_data<nuR_hi)]\n",
    "    freqR = freq[(nu_data>nuR_lo) & (nu_data<nuR_hi)]\n",
    "    fluxR = flux[(nu_data>nuR_lo) & (nu_data<nuR_hi)]\n",
    "    ferrR = ferr[(nu_data>nuR_lo) & (nu_data<nuR_hi)]\n",
    "    return timeR, freqR, fluxR, ferrR"
   ]
  },
  {
   "cell_type": "markdown",
   "metadata": {},
   "source": [
    "tR_data, nuR_data, FnuR_data, FerrR_data = isoRSignals(t_data, nu_data, Fnu_data, Ferr_data)"
   ]
  },
  {
   "cell_type": "code",
   "execution_count": 7,
   "metadata": {},
   "outputs": [],
   "source": [
    "def isoOSignals(time, freq, flux, ferr):\n",
    "    timeO = time[(nu_data>nuO_lo) & (nu_data<nuO_hi)]\n",
    "    freqO = freq[(nu_data>nuO_lo) & (nu_data<nuO_hi)]\n",
    "    fluxO = flux[(nu_data>nuO_lo) & (nu_data<nuO_hi)]\n",
    "    ferrO = ferr[(nu_data>nuO_lo) & (nu_data<nuO_hi)]\n",
    "    return timeO, freqO, fluxO, ferrO"
   ]
  },
  {
   "cell_type": "markdown",
   "metadata": {},
   "source": [
    "tO_data, nuO_data, FnuO_data, FerrO_data = isoOSignals(t_data, nu_data, Fnu_data, Ferr_data)"
   ]
  },
  {
   "cell_type": "code",
   "execution_count": 8,
   "metadata": {},
   "outputs": [],
   "source": [
    "def isoXSignals(time, freq, flux, ferr):\n",
    "    timeX = time[(nu_data>nuX_lo) & (nu_data<nuX_hi)]\n",
    "    freqX = freq[(nu_data>nuX_lo) & (nu_data<nuX_hi)]\n",
    "    fluxX = flux[(nu_data>nuX_lo) & (nu_data<nuX_hi)]\n",
    "    ferrX = ferr[(nu_data>nuX_lo) & (nu_data<nuX_hi)]\n",
    "    return timeX, freqX, fluxX, ferrX"
   ]
  },
  {
   "cell_type": "markdown",
   "metadata": {},
   "source": [
    "tX_data, nuX_data, FnuX_data, FerrX_data = isoXSignals(t_data, nu_data, Fnu_data, Ferr_data)\n",
    "\n",
    "print(tX_data)"
   ]
  },
  {
   "cell_type": "code",
   "execution_count": 9,
   "metadata": {},
   "outputs": [],
   "source": [
    "def isoSignal(t_data, nu_data, Fnu_data, Ferr_data):\n",
    "    tR_data, nuR_data, FnuR_data, FerrR_data = isoRSignals(t_data, nu_data, Fnu_data, Ferr_data)\n",
    "    tO_data, nuO_data, FnuO_data, FerrO_data = isoOSignals(t_data, nu_data, Fnu_data, Ferr_data)\n",
    "    tX_data, nuX_data, FnuX_data, FerrX_data = isoXSignals(t_data, nu_data, Fnu_data, Ferr_data)\n",
    "    return tR_data, nuR_data, FnuR_data, FerrR_data, tO_data, nuO_data, FnuO_data, FerrO_data,tX_data, nuX_data, FnuX_data, FerrX_data"
   ]
  },
  {
   "cell_type": "code",
   "execution_count": 10,
   "metadata": {},
   "outputs": [],
   "source": [
    "(tR_data, nuR_data, FnuR_data, FerrR_data, \n",
    "tO_data, nuO_data, FnuO_data, FerrO_data, \n",
    "tX_data, nuX_data, FnuX_data, FerrX_data) = isoSignal(t_data, nu_data, Fnu_data, Ferr_data)"
   ]
  },
  {
   "cell_type": "markdown",
   "metadata": {},
   "source": [
    "## Section 2: Model values"
   ]
  },
  {
   "cell_type": "code",
   "execution_count": 11,
   "metadata": {},
   "outputs": [],
   "source": [
    "Z = {'jetType': grb.jet.TopHat, #type of jet structure\n",
    "   'specType':0,       #type of spectrum\n",
    "   'thetaObs':0,       #observer angle(radians)\n",
    "   'E0': 2.0e53,       #isotropic energy (erg)\n",
    "   'thetaCore': 0.175,   #jet opening angle (radians)\n",
    "   'n0': 1.0,          #ambient ISM density (cm^3{-3})\n",
    "   'p': 2.2,           #electron energy slope (no units)\n",
    "   'epsilon_e': 0.1,   #fraction of energy in accelerated electrons (no units)\n",
    "   'epsilon_B': 0.0001,   #fraction of energy in magnetic field (no units)\n",
    "   'ksiN': 1.0,        #fraction of electrons that get accelerated\n",
    "   'dL': 2.475732e+28, #luminosity distance (cm)\n",
    "   'z': 1.17           #redshift\n",
    "  }\n",
    "\n",
    "#The luminosity distance DL is 8023.3 Mpc\n",
    "#2.475732e+28, luminosity distance(DL) in cm"
   ]
  },
  {
   "cell_type": "code",
   "execution_count": 12,
   "metadata": {},
   "outputs": [],
   "source": [
    "tR_model = np.geomspace(1.0e3, 1.0e7, 1000)\n",
    "nuR_model = np.empty(tR_model.shape)\n",
    "nuR_model[:] = 10**6\n",
    "\n",
    "FnuR_model = grb.fluxDensity(tR_model, nuR_model, **Z)"
   ]
  },
  {
   "cell_type": "code",
   "execution_count": 13,
   "metadata": {},
   "outputs": [],
   "source": [
    "tO_model = np.geomspace(1.0e3, 1.0e7, 1000)\n",
    "nuO_model = np.empty(tO_model.shape)\n",
    "nuO_model[:] = 10**14\n",
    "\n",
    "FnuO_model = grb.fluxDensity(tO_model, nuO_model, **Z)"
   ]
  },
  {
   "cell_type": "code",
   "execution_count": 14,
   "metadata": {},
   "outputs": [],
   "source": [
    "tX_model = np.geomspace(1.0e3, 1.0e7, 1000)\n",
    "nuX_model = np.empty(tX_model.shape)\n",
    "nuX_model[:] = 10**17\n",
    "\n",
    "FnuX_model = grb.fluxDensity(tX_model, nuX_model, **Z)"
   ]
  },
  {
   "cell_type": "markdown",
   "metadata": {},
   "source": [
    "## Section 3: Plotting the data"
   ]
  },
  {
   "cell_type": "code",
   "execution_count": 15,
   "metadata": {},
   "outputs": [
    {
     "data": {
      "image/png": "[encoded data removed]",
      "text/plain": [
       "<Figure size 432x288 with 1 Axes>"
      ]
     },
     "metadata": {
      "needs_background": "light"
     },
     "output_type": "display_data"
    }
   ],
   "source": [
    "plt.errorbar(tR_data, FnuR_data, FerrR_data, ls = \"\", marker = \".\", label = \"Radio\", color = \"red\")\n",
    "plt.errorbar(tO_data, FnuO_data, FerrO_data, ls = \"\", marker = \".\", label = \"Optical\", color = \"purple\")\n",
    "plt.errorbar(tX_data, FnuX_data, FerrX_data, ls = \"\", marker = \".\", label = \"X-Ray\", color = \"orange\")\n",
    "plt.plot(tR_model, FnuR_model, color = \"red\")\n",
    "plt.plot(tO_model, FnuO_model, color = \"purple\")\n",
    "plt.plot(tX_model, FnuX_model, color = \"orange\")\n",
    "plt.xscale('log')\n",
    "plt.yscale('log')\n",
    "plt.xlabel('time(s)')\n",
    "plt.ylabel('Flux (mJy)')\n",
    "plt.legend()\n",
    "plt.show()"
   ]
  },
  {
   "cell_type": "code",
   "execution_count": 16,
   "metadata": {},
   "outputs": [],
   "source": [
    "#we're gonna make a function that makes a decent guess for every parameter in the model\n",
    "#we're gonna get a prediction of fluxes por specific points\n",
    "\n",
    "def fit_function(x_data, E0, thetaCore, n0, p):\n",
    "    \"\"\"\n",
    "    Assumes xdata  = [t_data, nu_data, Z]\n",
    "    \"\"\"\n",
    "    \n",
    "    t_data = x_data['t_data']\n",
    "    nu_data = x_data['nu_data']\n",
    "    Z = x_data['Z']\n",
    "    \n",
    "    Z['E0'] = E0\n",
    "    Z['thetaCore'] = thetaCore\n",
    "    Z['n0'] = n0\n",
    "    Z['p'] = p\n",
    "    \n",
    "    \n",
    "    #print(E0, thetaCore, n0, p)\n",
    "    \n",
    "    Fnu = grb.fluxDensity(t_data, nu_data, **Z)\n",
    "    return Fnu"
   ]
  },
  {
   "cell_type": "code",
   "execution_count": 17,
   "metadata": {},
   "outputs": [],
   "source": [
    "def chi2_function(Fnu_model, Fnu_data, Ferr_data):\n",
    "    \n",
    "    residual = (Fnu_model - Fnu_data) / Ferr_data\n",
    "    \n",
    "    return np.sum(residual**2)"
   ]
  },
  {
   "cell_type": "markdown",
   "metadata": {},
   "source": [
    "def chi2_function(Fnu_model, Fnu_data, Ferr_data):\n",
    "    return np.sum((Fnu_model - Fnu_data) / Ferr_data**2 )"
   ]
  },
  {
   "cell_type": "code",
   "execution_count": 18,
   "metadata": {},
   "outputs": [],
   "source": [
    "# Parameters for the model\n",
    "Zguess = {'jetType': grb.jet.TopHat, #type of jet structure\n",
    "   'specType':0,       #type of spectrum\n",
    "   'thetaObs':0,       #observer angle(radians)\n",
    "   'E0': 2.0e53,       #isotropic energy (erg)\n",
    "   'thetaCore': 0.175,   #jet opening angle (radians)\n",
    "   'n0': 1.0,          #ambient ISM density (cm^3{-3})\n",
    "   'p': 2.2,           #electron energy slope (no units)\n",
    "   'epsilon_e': 0.1,   #fraction of energy in accelerated electrons (no units)\n",
    "   'epsilon_B': 0.0001,   #fraction of energy in magnetic field (no units)\n",
    "   'ksiN': 1.0,        #fraction of electrons that get accelerated\n",
    "   'dL': 2.475732e+28, #luminosity distance (cm)\n",
    "   'z': 1.17           #redshift\n",
    "  }\n",
    "\n",
    "\n",
    "x_data = {'t_data': t_data, \n",
    "          'nu_data': nu_data,\n",
    "          'Z': Zguess}\n",
    "Fnu_model = fit_function(x_data, 2.0e53, 0.175, 1.0, 2.2)"
   ]
  },
  {
   "cell_type": "code",
   "execution_count": 19,
   "metadata": {},
   "outputs": [
    {
     "name": "stdout",
     "output_type": "stream",
     "text": [
      "24162.747008006158\n"
     ]
    }
   ],
   "source": [
    "print(chi2_function(Fnu_model, Fnu_data, Ferr_data))"
   ]
  },
  {
   "cell_type": "code",
   "execution_count": 20,
   "metadata": {},
   "outputs": [
    {
     "name": "stdout",
     "output_type": "stream",
     "text": [
      "[2.00000000e+53 1.58261194e-01 9.73045154e-01 2.16255403e+00]\n",
      "[[ 2.19844719e-108  5.28257378e-057  2.31293168e-055 -2.36790892e-056]\n",
      " [ 5.28257378e-057  4.48574439e-004  5.50010437e-004 -3.29940534e-004]\n",
      " [ 2.31293168e-055  5.50010437e-004  2.43343001e-002 -2.50145276e-003]\n",
      " [-2.36790892e-056 -3.29940534e-004 -2.50145276e-003  8.56979270e-004]]\n"
     ]
    }
   ],
   "source": [
    "#Try a fit\n",
    "#.       E0      thetaCore  density   p\n",
    "guess = [2.0e53, 0.175,     1.0,      2.2]\n",
    "\n",
    "#Setbounds so afterglowpy doesn't sceream\n",
    "lower_bounds = np.array([1.0e48, 0.0, 1.0e-5, 2.0])\n",
    "upper_bounds = np.array([1.0e56, np.pi/2, 1.0e5, 3.0])\n",
    "bounds = (lower_bounds, upper_bounds)\n",
    "\n",
    "popt, pcov = scipy.optimize.curve_fit(fit_function, x_data, Fnu_data, \n",
    "                                      sigma = Ferr_data, p0=guess, bounds=bounds)\n",
    "\n",
    "print(popt)\n",
    "print(pcov)\n",
    "\n",
    "xdataR = \n",
    "xdataO =\n",
    "xdataX =\n",
    "\n",
    "FnuX =\n",
    "FnuR =\n",
    "FnuO =\n",
    "\n",
    "plt.errorbar(tR_data, FnuR_data, FerrR_data, ls = \"\", marker = \".\", label = \"Radio\", color = \"red\")\n",
    "plt.errorbar(tO_data, FnuO_data, FerrO_data, ls = \"\", marker = \".\", label = \"Optical\", color = \"purple\")\n",
    "plt.errorbar(tX_data, FnuX_data, FerrX_data, ls = \"\", marker = \".\", label = \"X-Ray\", color = \"orange\")\n",
    "\n",
    "plt.plot(tR_model, FnuR_model, color = \"red\")\n",
    "plt.plot(tO_model, FnuO_model, color = \"purple\")\n",
    "plt.plot(tX_model, FnuX_model, color = \"orange\")\n",
    "\n",
    "plt.xscale('log')\n",
    "plt.yscale('log')\n",
    "\n",
    "plt.xlabel('time(s)')\n",
    "plt.ylabel('Flux (mJy)')\n",
    "\n",
    "plt.legend()\n",
    "plt.show()"
   ]
  },
  {
   "cell_type": "code",
   "execution_count": null,
   "metadata": {},
   "outputs": [],
   "source": []
  }
 ],
 "metadata": {
  "kernelspec": {
   "display_name": "Python 3",
   "language": "python",
   "name": "python3"
  },
  "language_info": {
   "codemirror_mode": {
    "name": "ipython",
    "version": 3
   },
   "file_extension": ".py",
   "mimetype": "text/x-python",
   "name": "python",
   "nbconvert_exporter": "python",
   "pygments_lexer": "ipython3",
   "version": "3.8.5"
  }
 },
 "nbformat": 4,
 "nbformat_minor": 4
}
