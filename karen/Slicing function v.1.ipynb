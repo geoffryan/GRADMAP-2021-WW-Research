{
 "cells": [
  {
   "cell_type": "code",
   "execution_count": 1,
   "metadata": {},
   "outputs": [],
   "source": [
    "import numpy as np\n",
    "import matplotlib.pyplot as plt\n",
    "import scipy.optimize\n",
    "import afterglowpy as grb"
   ]
  },
  {
   "cell_type": "code",
   "execution_count": 2,
   "metadata": {},
   "outputs": [],
   "source": [
    "def loadDataFromFile(filename):\n",
    "    \"\"\"\n",
    "    Load GRB afterglow data from a .txt file.\n",
    "    \n",
    "    Arguments\n",
    "    \n",
    "        filename: the name (and path) to the data file.\n",
    "        \n",
    "    Returns\n",
    "        \n",
    "        t: array\n",
    "            observed times in seconds\n",
    "        nu: array\n",
    "            observed frequency in Hz\n",
    "        Fnu: array\n",
    "            observed flux in mJy\n",
    "        Ferr: array\n",
    "            uncertainty in observed flux in mJy\n",
    "    \"\"\"\n",
    "    \n",
    "    \n",
    "    t_all, nu_all, Fnu_all, Ferr_all, ul_all = np.loadtxt(filename, usecols=[0,1,2,3,4], unpack=True)\n",
    "    \n",
    "    detections = (ul_all == 0.0)\n",
    "    t_det = t_all[detections]\n",
    "    nu_det = nu_all[detections]\n",
    "    Fnu_det = Fnu_all[detections]\n",
    "    Ferr_det = Ferr_all[detections]\n",
    "    \n",
    "    return t_det, nu_det, Fnu_det, Ferr_det"
   ]
  },
  {
   "cell_type": "code",
   "execution_count": 3,
   "metadata": {
    "scrolled": false
   },
   "outputs": [
    {
     "name": "stdout",
     "output_type": "stream",
     "text": [
      "[1.22431982e+04 1.37805452e+04 1.74586007e+04 1.96508323e+04\n",
      " 6.41351508e+04 7.21884368e+04 1.15865384e+05 1.65222145e+05\n",
      " 1.85968665e+05 2.35604081e+05 2.65188279e+05 3.35967571e+05\n",
      " 3.78154155e+05 4.25637999e+05 4.79084268e+05 5.39241648e+05\n",
      " 6.06952835e+05 6.83166342e+05 7.68949783e+05 8.65504829e+05\n",
      " 1.23419575e+06 1.38917054e+06 1.56360511e+06 1.98093450e+06\n",
      " 2.82478024e+06 1.46016000e+05 3.16224000e+05 4.88160000e+05\n",
      " 7.41206060e+01 1.01213379e+04 1.37620871e+04 2.03292001e+04\n",
      " 2.73408180e+04 2.76602643e+04 2.99750370e+04 3.67319595e+04\n",
      " 3.94293774e+04 4.03639857e+04 4.33305303e+04 4.48895972e+04\n",
      " 7.37594795e+04 1.51576877e+05 1.62825557e+05 2.49219877e+05\n",
      " 3.34720654e+05 8.11403568e+05] [1.20899462e+18 1.20899462e+18 1.20899462e+18 1.20899462e+18\n",
      " 1.20899462e+18 1.20899462e+18 1.20899462e+18 1.20899462e+18\n",
      " 1.20899462e+18 1.20899462e+18 1.20899462e+18 1.20899462e+18\n",
      " 1.20899462e+18 1.20899462e+18 1.20899462e+18 1.20899462e+18\n",
      " 1.20899462e+18 1.20899462e+18 1.20899462e+18 1.20899462e+18\n",
      " 1.20899462e+18 1.20899462e+18 1.20899462e+18 1.20899462e+18\n",
      " 1.20899462e+18 1.55000000e+10 1.55000000e+10 1.55000000e+10\n",
      " 4.67706708e+14 4.67706708e+14 4.67706708e+14 4.67706708e+14\n",
      " 4.67706708e+14 4.67706708e+14 4.67706708e+14 4.67706708e+14\n",
      " 4.67706708e+14 4.67706708e+14 4.67706708e+14 4.67706708e+14\n",
      " 4.67706708e+14 4.67706708e+14 4.67706708e+14 4.67706708e+14\n",
      " 4.67706708e+14 1.40000000e+09] [8.81138200e-03 8.76595500e-03 5.89133500e-03 5.49097800e-03\n",
      " 1.22225600e-03 1.05373800e-03 4.91485000e-04 3.20317000e-04\n",
      " 2.69174000e-04 1.95318000e-04 1.47712000e-04 1.09409000e-04\n",
      " 1.10087000e-04 7.18440000e-05 6.47350000e-05 5.18490000e-05\n",
      " 4.56550000e-05 3.78910000e-05 3.57960000e-05 2.95160000e-05\n",
      " 1.04320000e-05 8.04800000e-06 6.63500000e-06 4.35300000e-06\n",
      " 2.16900000e-06 1.10000000e+00 5.80000000e-01 3.40000000e-01\n",
      " 6.45916738e+02 1.18241446e+00 7.83524757e-01 5.19100241e-01\n",
      " 6.87091959e-01 5.77943858e-01 8.25530830e-02 3.99919026e-01\n",
      " 3.51205893e-01 2.89088536e-01 2.65093991e-01 2.32822966e-01\n",
      " 1.44526264e-01 3.38925690e-02 5.22185650e-02 3.45929210e-02\n",
      " 1.58729760e-02 3.90000000e-01] [4.40569000e-04 4.38298000e-04 2.94567000e-04 2.74549000e-04\n",
      " 6.11130000e-05 5.26870000e-05 2.45740000e-05 1.60160000e-05\n",
      " 1.34590000e-05 9.76600000e-06 7.38600000e-06 5.47000000e-06\n",
      " 5.50400000e-06 3.59200000e-06 3.23700000e-06 2.59200000e-06\n",
      " 2.28300000e-06 1.89500000e-06 1.79000000e-06 1.47600000e-06\n",
      " 5.22000000e-07 4.02000000e-07 3.32000000e-07 2.18000000e-07\n",
      " 1.08000000e-07 6.00000000e-02 5.00000000e-02 4.00000000e-02\n",
      " 2.85426822e+01 5.22502020e-02 5.25280730e-02 5.92613530e-02\n",
      " 4.60427740e-02 2.55557710e-02 3.64797200e-03 5.53938420e-02\n",
      " 1.55093920e-02 1.00000000e-03 2.39463460e-02 5.08854800e-03\n",
      " 6.38653100e-03 1.49670900e-03 2.30750800e-03 7.56058000e-04\n",
      " 7.01418000e-04 5.90000000e-02]\n"
     ]
    }
   ],
   "source": [
    "t_data, nu_data, Fnu_data, Ferr_data = loadDataFromFile(\"180720B_data.txt\")\n",
    "\n",
    "print(t_data, nu_data, Fnu_data, Ferr_data)"
   ]
  },
  {
   "cell_type": "markdown",
   "metadata": {},
   "source": [
    "def isoSignals\n",
    "\n",
    "\n",
    "what do you need this blasted code to do?\n",
    "separate data on the basis of size\n",
    "\n",
    "what do you want to input?\n",
    "array of the txt file, preferabbly directly or with the least functions possible\n",
    "\n",
    "what do you want it to output?\n",
    "subarrays with the clasified names\n",
    "    "
   ]
  },
  {
   "cell_type": "code",
   "execution_count": 4,
   "metadata": {},
   "outputs": [],
   "source": [
    "#Conditional indexing"
   ]
  },
  {
   "cell_type": "code",
   "execution_count": 5,
   "metadata": {},
   "outputs": [
    {
     "name": "stdout",
     "output_type": "stream",
     "text": [
      "[1.20899462e+18 1.20899462e+18 1.20899462e+18 1.20899462e+18\n",
      " 1.20899462e+18 1.20899462e+18 1.20899462e+18 1.20899462e+18\n",
      " 1.20899462e+18 1.20899462e+18 1.20899462e+18 1.20899462e+18\n",
      " 1.20899462e+18 1.20899462e+18 1.20899462e+18 1.20899462e+18\n",
      " 1.20899462e+18 1.20899462e+18 1.20899462e+18 1.20899462e+18\n",
      " 1.20899462e+18 1.20899462e+18 1.20899462e+18 1.20899462e+18\n",
      " 1.20899462e+18 1.55000000e+10 1.55000000e+10 1.55000000e+10\n",
      " 4.67706708e+14 4.67706708e+14 4.67706708e+14 4.67706708e+14\n",
      " 4.67706708e+14 4.67706708e+14 4.67706708e+14 4.67706708e+14\n",
      " 4.67706708e+14 4.67706708e+14 4.67706708e+14 4.67706708e+14\n",
      " 4.67706708e+14 4.67706708e+14 4.67706708e+14 4.67706708e+14\n",
      " 4.67706708e+14 1.40000000e+09]\n"
     ]
    }
   ],
   "source": [
    "print(nu_data)"
   ]
  },
  {
   "cell_type": "code",
   "execution_count": 6,
   "metadata": {},
   "outputs": [],
   "source": [
    "def isoRSignals(t_data, nu_data, Fnu_data, Ferr_data):\n",
    "    tR_data = []\n",
    "    nuR_data = []\n",
    "    FnuR_data = []\n",
    "    FerrR_data = []\n",
    "    for i,nu in enumerate(nu_data): \n",
    "        if nu>30 and nu<10**11:\n",
    "            tR_data.append(t_data[i])\n",
    "            nuR_data.append(nu_data[i])\n",
    "            FnuR_data.append(Fnu_data[i])\n",
    "            FerrR_data.append(Ferr_data[i])\n",
    "    return tR_data, nuR_data, FnuR_data, FerrR_data\n",
    "\n",
    "#Only used for lists (inefficient on arrays), adds whatever is in the parenthesis to the end of the (in this case empty) list"
   ]
  },
  {
   "cell_type": "code",
   "execution_count": 7,
   "metadata": {},
   "outputs": [
    {
     "data": {
      "text/plain": [
       "([146016.0, 316224.0, 488160.0, 811403.568],\n",
       " [15500000000.0, 15500000000.0, 15500000000.0, 1400000000.0],\n",
       " [1.1, 0.58, 0.34, 0.39],\n",
       " [0.06, 0.05, 0.04, 0.059])"
      ]
     },
     "execution_count": 7,
     "metadata": {},
     "output_type": "execute_result"
    }
   ],
   "source": [
    "isoRSignals(*loadDataFromFile(\"180720B_data.txt\"))"
   ]
  },
  {
   "cell_type": "code",
   "execution_count": 8,
   "metadata": {},
   "outputs": [],
   "source": [
    "def isoOSignals(t_data, nu_data, Fnu_data, Ferr_data):\n",
    "    tO_data = []\n",
    "    nuO_data = []\n",
    "    FnuO_data = []\n",
    "    FerrO_data = []\n",
    "    for i,nu in enumerate(nu_data): \n",
    "        if nu>10**13 and nu<10**15:\n",
    "            tO_data.append(t_data[i])\n",
    "            nuO_data.append(nu_data[i])\n",
    "            FnuO_data.append(Fnu_data[i])\n",
    "            FerrO_data.append(Ferr_data[i])\n",
    "    return tO_data, nuO_data, FnuO_data, FerrO_data\n",
    "\n",
    "#Easy to read, not very optimized (see research_starter exercises)"
   ]
  },
  {
   "cell_type": "code",
   "execution_count": 9,
   "metadata": {
    "scrolled": true
   },
   "outputs": [
    {
     "data": {
      "text/plain": [
       "([74.120606,\n",
       "  10121.33791,\n",
       "  13762.08714,\n",
       "  20329.20013,\n",
       "  27340.81801,\n",
       "  27660.26428,\n",
       "  29975.03703,\n",
       "  36731.95951,\n",
       "  39429.37737,\n",
       "  40363.98573,\n",
       "  43330.5303,\n",
       "  44889.5972,\n",
       "  73759.4795,\n",
       "  151576.8774,\n",
       "  162825.5565,\n",
       "  249219.8767,\n",
       "  334720.6538],\n",
       " [467706708268330.75,\n",
       "  467706708268330.75,\n",
       "  467706708268330.75,\n",
       "  467706708268330.75,\n",
       "  467706708268330.75,\n",
       "  467706708268330.75,\n",
       "  467706708268330.75,\n",
       "  467706708268330.75,\n",
       "  467706708268330.75,\n",
       "  467706708268330.75,\n",
       "  467706708268330.75,\n",
       "  467706708268330.75,\n",
       "  467706708268330.75,\n",
       "  467706708268330.75,\n",
       "  467706708268330.75,\n",
       "  467706708268330.75,\n",
       "  467706708268330.75],\n",
       " [645.9167376,\n",
       "  1.182414464,\n",
       "  0.783524757,\n",
       "  0.519100241,\n",
       "  0.687091959,\n",
       "  0.577943858,\n",
       "  0.082553083,\n",
       "  0.399919026,\n",
       "  0.351205893,\n",
       "  0.289088536,\n",
       "  0.265093991,\n",
       "  0.232822966,\n",
       "  0.144526264,\n",
       "  0.033892569,\n",
       "  0.052218565,\n",
       "  0.034592921,\n",
       "  0.015872976],\n",
       " [28.5426822,\n",
       "  0.052250202,\n",
       "  0.052528073,\n",
       "  0.059261353,\n",
       "  0.046042774,\n",
       "  0.025555771,\n",
       "  0.003647972,\n",
       "  0.055393842,\n",
       "  0.015509392,\n",
       "  0.001,\n",
       "  0.023946346,\n",
       "  0.005088548,\n",
       "  0.006386531,\n",
       "  0.001496709,\n",
       "  0.002307508,\n",
       "  0.000756058,\n",
       "  0.000701418])"
      ]
     },
     "execution_count": 9,
     "metadata": {},
     "output_type": "execute_result"
    }
   ],
   "source": [
    "isoOSignals(*loadDataFromFile(\"180720B_data.txt\"))"
   ]
  },
  {
   "cell_type": "code",
   "execution_count": 10,
   "metadata": {},
   "outputs": [],
   "source": [
    "def isoXSignals(t_data, nu_data, Fnu_data, Ferr_data):\n",
    "    tX_data = []\n",
    "    nuX_data = []\n",
    "    FnuX_data = []\n",
    "    FerrX_data = []\n",
    "    for i,nu in enumerate(nu_data): \n",
    "        if nu>10**16 and nu<10**20:\n",
    "            tX_data.append(t_data[i])\n",
    "            nuX_data.append(nu_data[i])\n",
    "            FnuX_data.append(Fnu_data[i])\n",
    "            FerrX_data.append(Ferr_data[i])\n",
    "    return tX_data, nuX_data, FnuX_data, FerrX_data"
   ]
  },
  {
   "cell_type": "code",
   "execution_count": 11,
   "metadata": {
    "scrolled": true
   },
   "outputs": [
    {
     "data": {
      "text/plain": [
       "([12243.198244,\n",
       "  13780.545164,\n",
       "  17458.600726,\n",
       "  19650.832324,\n",
       "  64135.150829,\n",
       "  72188.436794,\n",
       "  115865.384098,\n",
       "  165222.145274,\n",
       "  185968.665183,\n",
       "  235604.080559,\n",
       "  265188.279092,\n",
       "  335967.570715,\n",
       "  378154.154619,\n",
       "  425637.999381,\n",
       "  479084.268423,\n",
       "  539241.64803,\n",
       "  606952.835098,\n",
       "  683166.341805,\n",
       "  768949.782563,\n",
       "  865504.829384,\n",
       "  1234195.75026,\n",
       "  1389170.536851,\n",
       "  1563605.108872,\n",
       "  1980934.495987,\n",
       "  2824780.23633],\n",
       " [1.208994621e+18,\n",
       "  1.208994621e+18,\n",
       "  1.208994621e+18,\n",
       "  1.208994621e+18,\n",
       "  1.208994621e+18,\n",
       "  1.208994621e+18,\n",
       "  1.208994621e+18,\n",
       "  1.208994621e+18,\n",
       "  1.208994621e+18,\n",
       "  1.208994621e+18,\n",
       "  1.208994621e+18,\n",
       "  1.208994621e+18,\n",
       "  1.208994621e+18,\n",
       "  1.208994621e+18,\n",
       "  1.208994621e+18,\n",
       "  1.208994621e+18,\n",
       "  1.208994621e+18,\n",
       "  1.208994621e+18,\n",
       "  1.208994621e+18,\n",
       "  1.208994621e+18,\n",
       "  1.208994621e+18,\n",
       "  1.208994621e+18,\n",
       "  1.208994621e+18,\n",
       "  1.208994621e+18,\n",
       "  1.208994621e+18],\n",
       " [0.008811382,\n",
       "  0.008765955,\n",
       "  0.005891335,\n",
       "  0.005490978,\n",
       "  0.001222256,\n",
       "  0.001053738,\n",
       "  0.000491485,\n",
       "  0.000320317,\n",
       "  0.000269174,\n",
       "  0.000195318,\n",
       "  0.000147712,\n",
       "  0.000109409,\n",
       "  0.000110087,\n",
       "  7.1844e-05,\n",
       "  6.4735e-05,\n",
       "  5.1849e-05,\n",
       "  4.5655e-05,\n",
       "  3.7891e-05,\n",
       "  3.5796e-05,\n",
       "  2.9516e-05,\n",
       "  1.0432e-05,\n",
       "  8.048e-06,\n",
       "  6.635e-06,\n",
       "  4.353e-06,\n",
       "  2.169e-06],\n",
       " [0.000440569,\n",
       "  0.000438298,\n",
       "  0.000294567,\n",
       "  0.000274549,\n",
       "  6.1113e-05,\n",
       "  5.2687e-05,\n",
       "  2.4574e-05,\n",
       "  1.6016e-05,\n",
       "  1.3459e-05,\n",
       "  9.766e-06,\n",
       "  7.386e-06,\n",
       "  5.47e-06,\n",
       "  5.504e-06,\n",
       "  3.592e-06,\n",
       "  3.237e-06,\n",
       "  2.592e-06,\n",
       "  2.283e-06,\n",
       "  1.895e-06,\n",
       "  1.79e-06,\n",
       "  1.476e-06,\n",
       "  5.22e-07,\n",
       "  4.02e-07,\n",
       "  3.32e-07,\n",
       "  2.18e-07,\n",
       "  1.08e-07])"
      ]
     },
     "execution_count": 11,
     "metadata": {},
     "output_type": "execute_result"
    }
   ],
   "source": [
    "isoXSignals(*loadDataFromFile(\"180720B_data.txt\"))"
   ]
  },
  {
   "cell_type": "markdown",
   "metadata": {},
   "source": [
    "def isoSignals(t_data, nu_data, Fnu_data, Ferr_data):\n",
    "    \n",
    "    tR_data = []\n",
    "    nuR_data = []\n",
    "    FnuR_data = []\n",
    "    FerrR_data = []\n",
    "    tO_data = []\n",
    "    nuO_data = []\n",
    "    FnuO_data = []\n",
    "    FerrO_data = []\n",
    "    tX_data = []\n",
    "    nuX_data = []\n",
    "    FnuX_data = []\n",
    "    FerrX_data = []\n",
    "    for i,nu in enumerate(nu_data): \n",
    "        if nu>30 and nu<10**11:\n",
    "            tR_data.append(t_data[i])\n",
    "            nuR_data.append(nu_data[i])\n",
    "            FnuR_data.append(Fnu_data[i])\n",
    "            FerrR_data.append(Ferr_data[i])\n",
    "        if nu>10**13 and nu<10**15:\n",
    "            tO_data.append(t_data[i])\n",
    "            nuO_data.append(nu_data[i])\n",
    "            FnuO_data.append(Fnu_data[i])\n",
    "            FerrO_data.append(Ferr_data[i])\n",
    "        if nu>10**16 and nu<10**20:\n",
    "            tX_data.append(t_data[i])\n",
    "            nuX_data.append(nu_data[i])\n",
    "            FnuX_data.append(Fnu_data[i])\n",
    "            FerrX_data.append(Ferr_data[i])\n",
    "    return tR_data, nuR_data, FnuR_data, FerrR_data, tO_data, nuO_data, FnuO_data, FerrO_data, tX_data, nuX_data, FnuX_data, FerrX_data"
   ]
  },
  {
   "cell_type": "markdown",
   "metadata": {},
   "source": [
    "isoSignals(*loadDataFromFile(\"180720B_data.txt\"))"
   ]
  },
  {
   "cell_type": "markdown",
   "metadata": {},
   "source": [
    "print(tR_data)"
   ]
  },
  {
   "cell_type": "markdown",
   "metadata": {},
   "source": [
    "def isoRSignals(t_data, nu_data, Fnu_data, Ferr_data):\n",
    "    nuR_lo = 30\n",
    "    nuR_hi = 10**11\n",
    "    if nu_data[nuR_lo:nuR_hi]:\n",
    "        nu_data = nuR_data\n",
    "        print(nuR_data)\n",
    "\n",
    "isoRSignals(array1)"
   ]
  },
  {
   "cell_type": "markdown",
   "metadata": {},
   "source": [
    "Rarray=np.array(tR_data,nuR_data,FnuR_data,FerrR_data)\n",
    "Oarray=np.array(tO_data,nuO_data,FnuO_data,FerrO_data)\n",
    "Xarray=np.array(tX_data,nuX_data,FnuX_data,FerrX_data)"
   ]
  },
  {
   "cell_type": "code",
   "execution_count": 12,
   "metadata": {},
   "outputs": [
    {
     "ename": "SyntaxError",
     "evalue": "invalid syntax (<ipython-input-12-5606b1b57c6d>, line 1)",
     "output_type": "error",
     "traceback": [
      "\u001b[1;36m  File \u001b[1;32m\"<ipython-input-12-5606b1b57c6d>\"\u001b[1;36m, line \u001b[1;32m1\u001b[0m\n\u001b[1;33m    def isoSignals(t_data, nu_data, Fnu_data, Ferr_data)\u001b[0m\n\u001b[1;37m                                                        ^\u001b[0m\n\u001b[1;31mSyntaxError\u001b[0m\u001b[1;31m:\u001b[0m invalid syntax\n"
     ]
    }
   ],
   "source": [
    "def isoSignals(t_data, nu_data, Fnu_data, Ferr_data)\n",
    "    isoRSignals(t_data, nu_data, Fnu_data, Ferr_data)=(tR_data, nuR_data, FnuR_data, FerrR_data)\n",
    "    isoOSignals(t_data, nu_data, Fnu_data, Ferr_data)=(tO_data, nuO_data, FnuO_data, FerrO_data)\n",
    "    isoXSignals(t_Data, nu_data, Fnu_data, Ferr_data)=(tX_data, nuX_data, FnuX_data, FerrX_data)"
   ]
  },
  {
   "cell_type": "code",
   "execution_count": null,
   "metadata": {},
   "outputs": [],
   "source": []
  }
 ],
 "metadata": {
  "kernelspec": {
   "display_name": "Python 3",
   "language": "python",
   "name": "python3"
  },
  "language_info": {
   "codemirror_mode": {
    "name": "ipython",
    "version": 3
   },
   "file_extension": ".py",
   "mimetype": "text/x-python",
   "name": "python",
   "nbconvert_exporter": "python",
   "pygments_lexer": "ipython3",
   "version": "3.8.5"
  }
 },
 "nbformat": 4,
 "nbformat_minor": 4
}
